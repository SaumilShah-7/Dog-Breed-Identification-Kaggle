{
  "nbformat": 4,
  "nbformat_minor": 0,
  "metadata": {
    "colab": {
      "name": "Dog_Breed_Identification_Kaggle (using Transfer Learning).ipynb",
      "provenance": [],
      "collapsed_sections": [],
      "include_colab_link": true
    },
    "kernelspec": {
      "name": "python3",
      "display_name": "Python 3"
    },
    "accelerator": "GPU"
  },
  "cells": [
    {
      "cell_type": "markdown",
      "metadata": {
        "id": "view-in-github",
        "colab_type": "text"
      },
      "source": [
        "<a href=\"https://colab.research.google.com/github/SaumilShah-7/Dog-Breed-Identification-Kaggle/blob/master/Dog_Breed_Identification_Kaggle_(using_Transfer_Learning).ipynb\" target=\"_parent\"><img src=\"https://colab.research.google.com/assets/colab-badge.svg\" alt=\"Open In Colab\"/></a>"
      ]
    },
    {
      "cell_type": "code",
      "metadata": {
        "id": "UbPp71KraKRD",
        "colab_type": "code",
        "colab": {
          "base_uri": "https://localhost:8080/",
          "height": 52
        },
        "outputId": "fd310232-f82f-4dbf-cadb-f3e8343fa790"
      },
      "source": [
        "try:\n",
        "  %tensorflow_version 2.x\n",
        "except Exception:\n",
        "  pass\n",
        "\n",
        "import tensorflow as tf\n",
        "print(tf.__version__)\n",
        "\n",
        "import pandas as pd\n",
        "import numpy as np\n",
        "from sklearn.preprocessing import OneHotEncoder\n",
        "from sklearn.metrics import confusion_matrix\n",
        "from sklearn.model_selection import train_test_split\n",
        "from tensorflow.keras.models import Sequential, load_model\n",
        "from tensorflow.keras.layers import Conv2D, Dense, Dropout, Flatten, MaxPooling2D, BatchNormalization\n",
        "from tensorflow.keras.callbacks import EarlyStopping, ModelCheckpoint\n",
        "from tensorflow.python.keras.applications import ResNet50\n",
        "from matplotlib import pyplot\n",
        "from zipfile import ZipFile\n",
        "import cv2"
      ],
      "execution_count": 1,
      "outputs": [
        {
          "output_type": "stream",
          "text": [
            "TensorFlow 2.x selected.\n",
            "2.0.0-rc2\n"
          ],
          "name": "stdout"
        }
      ]
    },
    {
      "cell_type": "code",
      "metadata": {
        "id": "iSOtpewfaYnJ",
        "colab_type": "code",
        "colab": {
          "resources": {
            "http://localhost:8080/nbextensions/google.colab/files.js": {
              "data": "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",
              "ok": true,
              "headers": [
                [
                  "content-type",
                  "application/javascript"
                ]
              ],
              "status": 200,
              "status_text": ""
            }
          },
          "base_uri": "https://localhost:8080/",
          "height": 75
        },
        "outputId": "590ae547-5570-414c-8b82-eb9c8302f153"
      },
      "source": [
        "from google.colab import files\n",
        "files.upload()\n",
        "\n",
        "!pip install -q kaggle\n",
        "!mkdir -p ~/.kaggle\n",
        "!cp kaggle.json ~/.kaggle/\n",
        "!chmod 600 ~/.kaggle/kaggle.json"
      ],
      "execution_count": 3,
      "outputs": [
        {
          "output_type": "display_data",
          "data": {
            "text/html": [
              "\n",
              "     <input type=\"file\" id=\"files-967e4cf6-bf83-484c-8f30-7306da744814\" name=\"files[]\" multiple disabled />\n",
              "     <output id=\"result-967e4cf6-bf83-484c-8f30-7306da744814\">\n",
              "      Upload widget is only available when the cell has been executed in the\n",
              "      current browser session. Please rerun this cell to enable.\n",
              "      </output>\n",
              "      <script src=\"/nbextensions/google.colab/files.js\"></script> "
            ],
            "text/plain": [
              "<IPython.core.display.HTML object>"
            ]
          },
          "metadata": {
            "tags": []
          }
        },
        {
          "output_type": "stream",
          "text": [
            "Saving kaggle.json to kaggle (8).json\n"
          ],
          "name": "stdout"
        }
      ]
    },
    {
      "cell_type": "code",
      "metadata": {
        "id": "9qY0qGOJaadg",
        "colab_type": "code",
        "colab": {
          "base_uri": "https://localhost:8080/",
          "height": 104
        },
        "outputId": "6a34fb31-5fae-418c-8d82-6389c416ad87"
      },
      "source": [
        "!kaggle competitions download -c dog-breed-identification"
      ],
      "execution_count": 4,
      "outputs": [
        {
          "output_type": "stream",
          "text": [
            "Warning: Looks like you're using an outdated API Version, please consider updating (server 1.5.6 / client 1.5.4)\n",
            "labels.csv.zip: Skipping, found more recently modified local copy (use --force to force download)\n",
            "sample_submission.csv.zip: Skipping, found more recently modified local copy (use --force to force download)\n",
            "test.zip: Skipping, found more recently modified local copy (use --force to force download)\n",
            "train.zip: Skipping, found more recently modified local copy (use --force to force download)\n"
          ],
          "name": "stdout"
        }
      ]
    },
    {
      "cell_type": "code",
      "metadata": {
        "id": "_i_if3aPanDC",
        "colab_type": "code",
        "colab": {}
      },
      "source": [
        "with ZipFile('train.zip', 'r') as zipobj:\n",
        "  zipobj.extractall()\n",
        "with ZipFile('test.zip', 'r') as zipobj:\n",
        "  zipobj.extractall()\n",
        "with ZipFile('labels.csv.zip', 'r') as zipobj:\n",
        "  zipobj.extractall()\n",
        "with ZipFile('labels.csv.zip', 'r') as zipobj:\n",
        "  zipobj.extractall()\n",
        "with ZipFile('sample_submission.csv.zip', 'r') as zipobj:\n",
        "  zipobj.extractall()"
      ],
      "execution_count": 0,
      "outputs": []
    },
    {
      "cell_type": "code",
      "metadata": {
        "id": "TUZp1pAWaz2k",
        "colab_type": "code",
        "colab": {}
      },
      "source": [
        "y_df = pd.read_csv('labels.csv')\n",
        "\n",
        "# print(y_df['breed'].value_counts())\n",
        "\n",
        "y_breed = np.asarray(y_df['breed']).reshape(-1, 1)\n",
        "ohe = OneHotEncoder(sparse=False)\n",
        "y = ohe.fit_transform(y_breed)\n",
        "\n",
        "labels_mapping = {np.argmax(y[i]): y_df.loc[i,'breed'] for i in range(len(y))}\n",
        "\n",
        "image_height = 128\n",
        "image_width = 128\n",
        "\n",
        "x = []\n",
        "for i in y_df['id']:\n",
        "  image = cv2.imread('/content/train/'+i+'.jpg')\n",
        "  x.append(cv2.resize(image, (image_height, image_width)))\n",
        "x = np.asarray(x)"
      ],
      "execution_count": 0,
      "outputs": []
    },
    {
      "cell_type": "code",
      "metadata": {
        "id": "iw2sdbyGa2iR",
        "colab_type": "code",
        "colab": {
          "base_uri": "https://localhost:8080/",
          "height": 163
        },
        "outputId": "443c47ec-b315-4b8c-d318-4552a687e7fa"
      },
      "source": [
        "from google.colab.patches import cv2_imshow\n",
        "\n",
        "cv2_imshow(x[1])\n",
        "print(x[1].shape, y_breed[1])"
      ],
      "execution_count": 7,
      "outputs": [
        {
          "output_type": "display_data",
          "data": {
            "image/png": "[encoded data removed]",
            "text/plain": [
              "<PIL.Image.Image image mode=RGB size=128x128 at 0x7F2E6BA3F7F0>"
            ]
          },
          "metadata": {
            "tags": []
          }
        },
        {
          "output_type": "stream",
          "text": [
            "(128, 128, 3) ['dingo']\n"
          ],
          "name": "stdout"
        }
      ]
    },
    {
      "cell_type": "code",
      "metadata": {
        "id": "JXw9_aB3bCYS",
        "colab_type": "code",
        "colab": {
          "base_uri": "https://localhost:8080/",
          "height": 35
        },
        "outputId": "e38025b8-7ffb-4289-8c3f-6fad859e58fc"
      },
      "source": [
        "x_train, x_test, y_train, y_test = train_test_split(x, y, test_size=0.1, random_state=7, shuffle=True)\n",
        "print(x_train.shape, x_test.shape, y_train.shape, y_test.shape)"
      ],
      "execution_count": 8,
      "outputs": [
        {
          "output_type": "stream",
          "text": [
            "(9199, 128, 128, 3) (1023, 128, 128, 3) (9199, 120) (1023, 120)\n"
          ],
          "name": "stdout"
        }
      ]
    },
    {
      "cell_type": "code",
      "metadata": {
        "id": "3EE_iuBza_9C",
        "colab_type": "code",
        "colab": {
          "base_uri": "https://localhost:8080/",
          "height": 35
        },
        "outputId": "7b2ef536-857d-445c-fbd3-c95217bbde63"
      },
      "source": [
        "base_model = ResNet50(include_top=False, weights='imagenet', input_shape=(image_width, image_height, 3))\n",
        "x_train_tl = base_model.predict(x_train)\n",
        "x_test_tl = base_model.predict(x_test)\n",
        "print(x_train_tl.shape, x_test_tl.shape)"
      ],
      "execution_count": 9,
      "outputs": [
        {
          "output_type": "stream",
          "text": [
            "(9199, 4, 4, 2048) (1023, 4, 4, 2048)\n"
          ],
          "name": "stdout"
        }
      ]
    },
    {
      "cell_type": "code",
      "metadata": {
        "id": "YVAtlEB34lfp",
        "colab_type": "code",
        "colab": {}
      },
      "source": [
        "mean = np.mean(x_train_tl, axis=0)\n",
        "std_dev = np.std(x_train_tl, axis=0)\n",
        "\n",
        "x_train_tl = x_train_tl.astype(np.float64)\n",
        "x_test_tl = x_test_tl.astype(np.float64)\n",
        "\n",
        "x_train_tl-=mean\n",
        "x_train_tl/=std_dev\n",
        "\n",
        "x_test_tl-=mean\n",
        "x_test_tl/=std_dev"
      ],
      "execution_count": 0,
      "outputs": []
    },
    {
      "cell_type": "code",
      "metadata": {
        "id": "wz-x0hG4rhf4",
        "colab_type": "code",
        "colab": {
          "base_uri": "https://localhost:8080/",
          "height": 433
        },
        "outputId": "6e0ec494-f724-4fd6-c82a-69626905ab46"
      },
      "source": [
        "model = Sequential()\n",
        "model.add(Flatten(input_shape=(np.size(x_train_tl, axis=1), np.size(x_train_tl, axis=2), np.size(x_train_tl, axis=3))))\n",
        "model.add(BatchNormalization())\n",
        "model.add(Dropout(0.5))\n",
        "model.add(Dense(units=1000, activation='relu'))\n",
        "model.add(Dropout(0.3))\n",
        "model.add(Dense(units=240, activation='relu'))\n",
        "model.add(Dropout(0.3))\n",
        "model.add(Dense(units=120, activation='softmax'))\n",
        "\n",
        "model.summary()"
      ],
      "execution_count": 17,
      "outputs": [
        {
          "output_type": "stream",
          "text": [
            "Model: \"sequential_3\"\n",
            "_________________________________________________________________\n",
            "Layer (type)                 Output Shape              Param #   \n",
            "=================================================================\n",
            "flatten_3 (Flatten)          (None, 32768)             0         \n",
            "_________________________________________________________________\n",
            "batch_normalization_1 (Batch (None, 32768)             131072    \n",
            "_________________________________________________________________\n",
            "dropout_7 (Dropout)          (None, 32768)             0         \n",
            "_________________________________________________________________\n",
            "dense_7 (Dense)              (None, 1000)              32769000  \n",
            "_________________________________________________________________\n",
            "dropout_8 (Dropout)          (None, 1000)              0         \n",
            "_________________________________________________________________\n",
            "dense_8 (Dense)              (None, 240)               240240    \n",
            "_________________________________________________________________\n",
            "dropout_9 (Dropout)          (None, 240)               0         \n",
            "_________________________________________________________________\n",
            "dense_9 (Dense)              (None, 120)               28920     \n",
            "=================================================================\n",
            "Total params: 33,169,232\n",
            "Trainable params: 33,103,696\n",
            "Non-trainable params: 65,536\n",
            "_________________________________________________________________\n"
          ],
          "name": "stdout"
        }
      ]
    },
    {
      "cell_type": "code",
      "metadata": {
        "id": "KHRjyUgIiDpJ",
        "colab_type": "code",
        "colab": {
          "base_uri": "https://localhost:8080/",
          "height": 1000
        },
        "outputId": "42a90dcc-a915-44b2-86cb-b8c6178d2541"
      },
      "source": [
        "model.compile(optimizer='adam', loss='categorical_crossentropy', metrics=['accuracy'])\n",
        "es = EarlyStopping(monitor='val_loss', mode='min', verbose=1, patience=50)\n",
        "mc = ModelCheckpoint('best_model.h5', monitor='val_accuracy', mode='max', verbose=1, save_best_only=True)\n",
        "\n",
        "history = model.fit(x_train_tl, y_train, batch_size=512, epochs=50, validation_data=(x_test_tl, y_test), callbacks=[es, mc])\n",
        "saved_model = load_model('best_model.h5')\n",
        "\n",
        "pyplot.plot(history.history['loss'], label='train_loss')\n",
        "pyplot.plot(history.history['val_loss'], label='val_loss')\n",
        "pyplot.legend()\n",
        "pyplot.show()\n",
        "\n",
        "pyplot.plot(history.history['accuracy'], label='train_accuracy')\n",
        "pyplot.plot(history.history['val_accuracy'], label='val_accuracy')\n",
        "pyplot.legend()\n",
        "pyplot.show()"
      ],
      "execution_count": 18,
      "outputs": [
        {
          "output_type": "stream",
          "text": [
            "Train on 9199 samples, validate on 1023 samples\n",
            "Epoch 1/50\n",
            "8704/9199 [===========================>..] - ETA: 0s - loss: 4.4968 - accuracy: 0.1176\n",
            "Epoch 00001: val_accuracy improved from -inf to 0.26784, saving model to best_model.h5\n",
            "9199/9199 [==============================] - 4s 469us/sample - loss: 4.4616 - accuracy: 0.1210 - val_loss: 3.3222 - val_accuracy: 0.2678\n",
            "Epoch 2/50\n",
            "8704/9199 [===========================>..] - ETA: 0s - loss: 2.6418 - accuracy: 0.3807\n",
            "Epoch 00002: val_accuracy improved from 0.26784 to 0.36950, saving model to best_model.h5\n",
            "9199/9199 [==============================] - 3s 368us/sample - loss: 2.6295 - accuracy: 0.3836 - val_loss: 2.6764 - val_accuracy: 0.3695\n",
            "Epoch 3/50\n",
            "8704/9199 [===========================>..] - ETA: 0s - loss: 1.7559 - accuracy: 0.5508\n",
            "Epoch 00003: val_accuracy improved from 0.36950 to 0.39687, saving model to best_model.h5\n",
            "9199/9199 [==============================] - 3s 379us/sample - loss: 1.7482 - accuracy: 0.5538 - val_loss: 2.5608 - val_accuracy: 0.3969\n",
            "Epoch 4/50\n",
            "8704/9199 [===========================>..] - ETA: 0s - loss: 1.1957 - accuracy: 0.6751\n",
            "Epoch 00004: val_accuracy improved from 0.39687 to 0.42131, saving model to best_model.h5\n",
            "9199/9199 [==============================] - 3s 369us/sample - loss: 1.2053 - accuracy: 0.6737 - val_loss: 2.5925 - val_accuracy: 0.4213\n",
            "Epoch 5/50\n",
            "8704/9199 [===========================>..] - ETA: 0s - loss: 0.8590 - accuracy: 0.7572\n",
            "Epoch 00005: val_accuracy improved from 0.42131 to 0.42913, saving model to best_model.h5\n",
            "9199/9199 [==============================] - 4s 397us/sample - loss: 0.8636 - accuracy: 0.7558 - val_loss: 2.5818 - val_accuracy: 0.4291\n",
            "Epoch 6/50\n",
            "8704/9199 [===========================>..] - ETA: 0s - loss: 0.6661 - accuracy: 0.8099\n",
            "Epoch 00006: val_accuracy improved from 0.42913 to 0.43597, saving model to best_model.h5\n",
            "9199/9199 [==============================] - 3s 362us/sample - loss: 0.6626 - accuracy: 0.8098 - val_loss: 2.6454 - val_accuracy: 0.4360\n",
            "Epoch 7/50\n",
            "8704/9199 [===========================>..] - ETA: 0s - loss: 0.5093 - accuracy: 0.8473\n",
            "Epoch 00007: val_accuracy did not improve from 0.43597\n",
            "9199/9199 [==============================] - 2s 240us/sample - loss: 0.5113 - accuracy: 0.8482 - val_loss: 2.8024 - val_accuracy: 0.4272\n",
            "Epoch 8/50\n",
            "8704/9199 [===========================>..] - ETA: 0s - loss: 0.4434 - accuracy: 0.8705\n",
            "Epoch 00008: val_accuracy did not improve from 0.43597\n",
            "9199/9199 [==============================] - 2s 244us/sample - loss: 0.4516 - accuracy: 0.8690 - val_loss: 2.8793 - val_accuracy: 0.4321\n",
            "Epoch 9/50\n",
            "8704/9199 [===========================>..] - ETA: 0s - loss: 0.3915 - accuracy: 0.8797\n",
            "Epoch 00009: val_accuracy did not improve from 0.43597\n",
            "9199/9199 [==============================] - 2s 234us/sample - loss: 0.3979 - accuracy: 0.8787 - val_loss: 2.8582 - val_accuracy: 0.4340\n",
            "Epoch 10/50\n",
            "8704/9199 [===========================>..] - ETA: 0s - loss: 0.3285 - accuracy: 0.9030\n",
            "Epoch 00010: val_accuracy did not improve from 0.43597\n",
            "9199/9199 [==============================] - 2s 240us/sample - loss: 0.3331 - accuracy: 0.9014 - val_loss: 2.9993 - val_accuracy: 0.4262\n",
            "Epoch 11/50\n",
            "8704/9199 [===========================>..] - ETA: 0s - loss: 0.3015 - accuracy: 0.9077\n",
            "Epoch 00011: val_accuracy did not improve from 0.43597\n",
            "9199/9199 [==============================] - 2s 254us/sample - loss: 0.3038 - accuracy: 0.9074 - val_loss: 3.0284 - val_accuracy: 0.4282\n",
            "Epoch 12/50\n",
            "8704/9199 [===========================>..] - ETA: 0s - loss: 0.2782 - accuracy: 0.9177\n",
            "Epoch 00012: val_accuracy did not improve from 0.43597\n",
            "9199/9199 [==============================] - 2s 245us/sample - loss: 0.2783 - accuracy: 0.9181 - val_loss: 3.1693 - val_accuracy: 0.4213\n",
            "Epoch 13/50\n",
            "8704/9199 [===========================>..] - ETA: 0s - loss: 0.2629 - accuracy: 0.9237\n",
            "Epoch 00013: val_accuracy did not improve from 0.43597\n",
            "9199/9199 [==============================] - 2s 245us/sample - loss: 0.2620 - accuracy: 0.9243 - val_loss: 3.2577 - val_accuracy: 0.4262\n",
            "Epoch 14/50\n",
            "8704/9199 [===========================>..] - ETA: 0s - loss: 0.2590 - accuracy: 0.9234\n",
            "Epoch 00014: val_accuracy did not improve from 0.43597\n",
            "9199/9199 [==============================] - 2s 246us/sample - loss: 0.2587 - accuracy: 0.9222 - val_loss: 3.3520 - val_accuracy: 0.4262\n",
            "Epoch 15/50\n",
            "8704/9199 [===========================>..] - ETA: 0s - loss: 0.2086 - accuracy: 0.9377\n",
            "Epoch 00015: val_accuracy did not improve from 0.43597\n",
            "9199/9199 [==============================] - 2s 246us/sample - loss: 0.2103 - accuracy: 0.9376 - val_loss: 3.5290 - val_accuracy: 0.4301\n",
            "Epoch 16/50\n",
            "8704/9199 [===========================>..] - ETA: 0s - loss: 0.1986 - accuracy: 0.9409\n",
            "Epoch 00016: val_accuracy did not improve from 0.43597\n",
            "9199/9199 [==============================] - 2s 255us/sample - loss: 0.2017 - accuracy: 0.9400 - val_loss: 3.5620 - val_accuracy: 0.4282\n",
            "Epoch 17/50\n",
            "8704/9199 [===========================>..] - ETA: 0s - loss: 0.1960 - accuracy: 0.9406\n",
            "Epoch 00017: val_accuracy improved from 0.43597 to 0.43988, saving model to best_model.h5\n",
            "9199/9199 [==============================] - 3s 372us/sample - loss: 0.1984 - accuracy: 0.9396 - val_loss: 3.5848 - val_accuracy: 0.4399\n",
            "Epoch 18/50\n",
            "8704/9199 [===========================>..] - ETA: 0s - loss: 0.2039 - accuracy: 0.9406\n",
            "Epoch 00018: val_accuracy did not improve from 0.43988\n",
            "9199/9199 [==============================] - 2s 249us/sample - loss: 0.2039 - accuracy: 0.9403 - val_loss: 3.4741 - val_accuracy: 0.4360\n",
            "Epoch 19/50\n",
            "8704/9199 [===========================>..] - ETA: 0s - loss: 0.1991 - accuracy: 0.9406\n",
            "Epoch 00019: val_accuracy did not improve from 0.43988\n",
            "9199/9199 [==============================] - 2s 245us/sample - loss: 0.1966 - accuracy: 0.9412 - val_loss: 3.6296 - val_accuracy: 0.4350\n",
            "Epoch 20/50\n",
            "8704/9199 [===========================>..] - ETA: 0s - loss: 0.1938 - accuracy: 0.9428\n",
            "Epoch 00020: val_accuracy did not improve from 0.43988\n",
            "9199/9199 [==============================] - 2s 249us/sample - loss: 0.1931 - accuracy: 0.9430 - val_loss: 3.5853 - val_accuracy: 0.4379\n",
            "Epoch 21/50\n",
            "8704/9199 [===========================>..] - ETA: 0s - loss: 0.1823 - accuracy: 0.9450\n",
            "Epoch 00021: val_accuracy improved from 0.43988 to 0.44086, saving model to best_model.h5\n",
            "9199/9199 [==============================] - 3s 380us/sample - loss: 0.1847 - accuracy: 0.9442 - val_loss: 3.6468 - val_accuracy: 0.4409\n",
            "Epoch 22/50\n",
            "8704/9199 [===========================>..] - ETA: 0s - loss: 0.1784 - accuracy: 0.9480\n",
            "Epoch 00022: val_accuracy improved from 0.44086 to 0.44673, saving model to best_model.h5\n",
            "9199/9199 [==============================] - 3s 373us/sample - loss: 0.1786 - accuracy: 0.9481 - val_loss: 3.6232 - val_accuracy: 0.4467\n",
            "Epoch 23/50\n",
            "8704/9199 [===========================>..] - ETA: 0s - loss: 0.1930 - accuracy: 0.9450\n",
            "Epoch 00023: val_accuracy did not improve from 0.44673\n",
            "9199/9199 [==============================] - 2s 248us/sample - loss: 0.1943 - accuracy: 0.9445 - val_loss: 3.7176 - val_accuracy: 0.4330\n",
            "Epoch 24/50\n",
            "8704/9199 [===========================>..] - ETA: 0s - loss: 0.1857 - accuracy: 0.9481\n",
            "Epoch 00024: val_accuracy did not improve from 0.44673\n",
            "9199/9199 [==============================] - 2s 248us/sample - loss: 0.1872 - accuracy: 0.9475 - val_loss: 3.5676 - val_accuracy: 0.4438\n",
            "Epoch 25/50\n",
            "8704/9199 [===========================>..] - ETA: 0s - loss: 0.1765 - accuracy: 0.9481\n",
            "Epoch 00025: val_accuracy did not improve from 0.44673\n",
            "9199/9199 [==============================] - 2s 248us/sample - loss: 0.1805 - accuracy: 0.9471 - val_loss: 3.6763 - val_accuracy: 0.4330\n",
            "Epoch 26/50\n",
            "8704/9199 [===========================>..] - ETA: 0s - loss: 0.1757 - accuracy: 0.9486\n",
            "Epoch 00026: val_accuracy did not improve from 0.44673\n",
            "9199/9199 [==============================] - 2s 249us/sample - loss: 0.1810 - accuracy: 0.9476 - val_loss: 3.8088 - val_accuracy: 0.4252\n",
            "Epoch 27/50\n",
            "8704/9199 [===========================>..] - ETA: 0s - loss: 0.1634 - accuracy: 0.9536\n",
            "Epoch 00027: val_accuracy did not improve from 0.44673\n",
            "9199/9199 [==============================] - 2s 242us/sample - loss: 0.1640 - accuracy: 0.9539 - val_loss: 3.9504 - val_accuracy: 0.4330\n",
            "Epoch 28/50\n",
            "8704/9199 [===========================>..] - ETA: 0s - loss: 0.1605 - accuracy: 0.9550\n",
            "Epoch 00028: val_accuracy did not improve from 0.44673\n",
            "9199/9199 [==============================] - 2s 254us/sample - loss: 0.1655 - accuracy: 0.9541 - val_loss: 4.0614 - val_accuracy: 0.4330\n",
            "Epoch 29/50\n",
            "8704/9199 [===========================>..] - ETA: 0s - loss: 0.1555 - accuracy: 0.9578\n",
            "Epoch 00029: val_accuracy did not improve from 0.44673\n",
            "9199/9199 [==============================] - 2s 246us/sample - loss: 0.1564 - accuracy: 0.9580 - val_loss: 4.0170 - val_accuracy: 0.4409\n",
            "Epoch 30/50\n",
            "8704/9199 [===========================>..] - ETA: 0s - loss: 0.1752 - accuracy: 0.9496\n",
            "Epoch 00030: val_accuracy did not improve from 0.44673\n",
            "9199/9199 [==============================] - 2s 252us/sample - loss: 0.1758 - accuracy: 0.9498 - val_loss: 4.1524 - val_accuracy: 0.4379\n",
            "Epoch 31/50\n",
            "8704/9199 [===========================>..] - ETA: 0s - loss: 0.1621 - accuracy: 0.9547\n",
            "Epoch 00031: val_accuracy did not improve from 0.44673\n",
            "9199/9199 [==============================] - 2s 250us/sample - loss: 0.1630 - accuracy: 0.9548 - val_loss: 4.0076 - val_accuracy: 0.4409\n",
            "Epoch 32/50\n",
            "8704/9199 [===========================>..] - ETA: 0s - loss: 0.1541 - accuracy: 0.9558\n",
            "Epoch 00032: val_accuracy did not improve from 0.44673\n",
            "9199/9199 [==============================] - 2s 248us/sample - loss: 0.1555 - accuracy: 0.9550 - val_loss: 4.0476 - val_accuracy: 0.4321\n",
            "Epoch 33/50\n",
            "8704/9199 [===========================>..] - ETA: 0s - loss: 0.1488 - accuracy: 0.9588\n",
            "Epoch 00033: val_accuracy did not improve from 0.44673\n",
            "9199/9199 [==============================] - 2s 250us/sample - loss: 0.1549 - accuracy: 0.9577 - val_loss: 4.1189 - val_accuracy: 0.4262\n",
            "Epoch 34/50\n",
            "8704/9199 [===========================>..] - ETA: 0s - loss: 0.1402 - accuracy: 0.9583\n",
            "Epoch 00034: val_accuracy did not improve from 0.44673\n",
            "9199/9199 [==============================] - 2s 249us/sample - loss: 0.1372 - accuracy: 0.9592 - val_loss: 4.0683 - val_accuracy: 0.4350\n",
            "Epoch 35/50\n",
            "8704/9199 [===========================>..] - ETA: 0s - loss: 0.1539 - accuracy: 0.9619\n",
            "Epoch 00035: val_accuracy did not improve from 0.44673\n",
            "9199/9199 [==============================] - 2s 236us/sample - loss: 0.1506 - accuracy: 0.9625 - val_loss: 4.0932 - val_accuracy: 0.4448\n",
            "Epoch 36/50\n",
            "8704/9199 [===========================>..] - ETA: 0s - loss: 0.1320 - accuracy: 0.9617\n",
            "Epoch 00036: val_accuracy improved from 0.44673 to 0.44966, saving model to best_model.h5\n",
            "9199/9199 [==============================] - 3s 370us/sample - loss: 0.1319 - accuracy: 0.9618 - val_loss: 4.2894 - val_accuracy: 0.4497\n",
            "Epoch 37/50\n",
            "8704/9199 [===========================>..] - ETA: 0s - loss: 0.1300 - accuracy: 0.9622\n",
            "Epoch 00037: val_accuracy did not improve from 0.44966\n",
            "9199/9199 [==============================] - 2s 241us/sample - loss: 0.1336 - accuracy: 0.9615 - val_loss: 4.1742 - val_accuracy: 0.4379\n",
            "Epoch 38/50\n",
            "8704/9199 [===========================>..] - ETA: 0s - loss: 0.1345 - accuracy: 0.9647\n",
            "Epoch 00038: val_accuracy did not improve from 0.44966\n",
            "9199/9199 [==============================] - 2s 259us/sample - loss: 0.1357 - accuracy: 0.9649 - val_loss: 4.2211 - val_accuracy: 0.4311\n",
            "Epoch 39/50\n",
            "8704/9199 [===========================>..] - ETA: 0s - loss: 0.1261 - accuracy: 0.9638\n",
            "Epoch 00039: val_accuracy did not improve from 0.44966\n",
            "9199/9199 [==============================] - 2s 249us/sample - loss: 0.1281 - accuracy: 0.9640 - val_loss: 4.2424 - val_accuracy: 0.4360\n",
            "Epoch 40/50\n",
            "8704/9199 [===========================>..] - ETA: 0s - loss: 0.1296 - accuracy: 0.9659\n",
            "Epoch 00040: val_accuracy did not improve from 0.44966\n",
            "9199/9199 [==============================] - 2s 234us/sample - loss: 0.1291 - accuracy: 0.9660 - val_loss: 4.2327 - val_accuracy: 0.4438\n",
            "Epoch 41/50\n",
            "8704/9199 [===========================>..] - ETA: 0s - loss: 0.1367 - accuracy: 0.9611\n",
            "Epoch 00041: val_accuracy did not improve from 0.44966\n",
            "9199/9199 [==============================] - 2s 234us/sample - loss: 0.1380 - accuracy: 0.9604 - val_loss: 4.3510 - val_accuracy: 0.4477\n",
            "Epoch 42/50\n",
            "8704/9199 [===========================>..] - ETA: 0s - loss: 0.1546 - accuracy: 0.9613\n",
            "Epoch 00042: val_accuracy did not improve from 0.44966\n",
            "9199/9199 [==============================] - 2s 248us/sample - loss: 0.1520 - accuracy: 0.9617 - val_loss: 4.3977 - val_accuracy: 0.4321\n",
            "Epoch 43/50\n",
            "8704/9199 [===========================>..] - ETA: 0s - loss: 0.1457 - accuracy: 0.9609\n",
            "Epoch 00043: val_accuracy did not improve from 0.44966\n",
            "9199/9199 [==============================] - 2s 258us/sample - loss: 0.1438 - accuracy: 0.9612 - val_loss: 4.3407 - val_accuracy: 0.4242\n",
            "Epoch 44/50\n",
            "8704/9199 [===========================>..] - ETA: 0s - loss: 0.1337 - accuracy: 0.9643\n",
            "Epoch 00044: val_accuracy did not improve from 0.44966\n",
            "9199/9199 [==============================] - 2s 241us/sample - loss: 0.1340 - accuracy: 0.9646 - val_loss: 4.4063 - val_accuracy: 0.4497\n",
            "Epoch 45/50\n",
            "8704/9199 [===========================>..] - ETA: 0s - loss: 0.1214 - accuracy: 0.9691\n",
            "Epoch 00045: val_accuracy did not improve from 0.44966\n",
            "9199/9199 [==============================] - 2s 242us/sample - loss: 0.1227 - accuracy: 0.9691 - val_loss: 4.5654 - val_accuracy: 0.4428\n",
            "Epoch 46/50\n",
            "8704/9199 [===========================>..] - ETA: 0s - loss: 0.1215 - accuracy: 0.9694\n",
            "Epoch 00046: val_accuracy did not improve from 0.44966\n",
            "9199/9199 [==============================] - 2s 255us/sample - loss: 0.1264 - accuracy: 0.9690 - val_loss: 4.4673 - val_accuracy: 0.4487\n",
            "Epoch 47/50\n",
            "8704/9199 [===========================>..] - ETA: 0s - loss: 0.1164 - accuracy: 0.9685\n",
            "Epoch 00047: val_accuracy did not improve from 0.44966\n",
            "9199/9199 [==============================] - 2s 257us/sample - loss: 0.1131 - accuracy: 0.9691 - val_loss: 4.4396 - val_accuracy: 0.4438\n",
            "Epoch 48/50\n",
            "8704/9199 [===========================>..] - ETA: 0s - loss: 0.1097 - accuracy: 0.9693\n",
            "Epoch 00048: val_accuracy improved from 0.44966 to 0.45259, saving model to best_model.h5\n",
            "9199/9199 [==============================] - 4s 388us/sample - loss: 0.1093 - accuracy: 0.9697 - val_loss: 4.5302 - val_accuracy: 0.4526\n",
            "Epoch 49/50\n",
            "8704/9199 [===========================>..] - ETA: 0s - loss: 0.1228 - accuracy: 0.9684\n",
            "Epoch 00049: val_accuracy did not improve from 0.45259\n",
            "9199/9199 [==============================] - 2s 243us/sample - loss: 0.1220 - accuracy: 0.9681 - val_loss: 4.6458 - val_accuracy: 0.4428\n",
            "Epoch 50/50\n",
            "8704/9199 [===========================>..] - ETA: 0s - loss: 0.1094 - accuracy: 0.9698\n",
            "Epoch 00050: val_accuracy did not improve from 0.45259\n",
            "9199/9199 [==============================] - 2s 249us/sample - loss: 0.1105 - accuracy: 0.9695 - val_loss: 4.7498 - val_accuracy: 0.4321\n"
          ],
          "name": "stdout"
        },
        {
          "output_type": "display_data",
          "data": {
            "image/png": "[encoded data removed]",
            "text/plain": [
              "<Figure size 432x288 with 1 Axes>"
            ]
          },
          "metadata": {
            "tags": []
          }
        },
        {
          "output_type": "display_data",
          "data": {
            "image/png": "[encoded data removed]",
            "text/plain": [
              "<Figure size 432x288 with 1 Axes>"
            ]
          },
          "metadata": {
            "tags": []
          }
        }
      ]
    },
    {
      "cell_type": "code",
      "metadata": {
        "id": "jEka6jUeBxiB",
        "colab_type": "code",
        "colab": {}
      },
      "source": [
        "y_test_pred = saved_model.predict(x_test_tl)\n",
        "y_test_pred_id = np.argmax(y_test_pred, axis=1).reshape(-1, 1)\n",
        "y_test_id = np.argmax(y_test, axis=1).reshape(-1, 1)\n",
        "\n",
        "df_cm = pd.DataFrame(confusion_matrix(y_test_id, y_test_pred_id), index=[labels_mapping[i] for i in range(len(labels_mapping))], \n",
        "                                            columns=[labels_mapping[i] for i in range(len(labels_mapping))])\n",
        "\n",
        "# import seaborn as sn\n",
        "# pyplot.figure(figsize=(20,7))\n",
        "# sn.heatmap(df_cm, annot=True)"
      ],
      "execution_count": 0,
      "outputs": []
    },
    {
      "cell_type": "code",
      "metadata": {
        "id": "C3UJCq4pXoYT",
        "colab_type": "code",
        "colab": {}
      },
      "source": [
        ""
      ],
      "execution_count": 0,
      "outputs": []
    }
  ]
}