{
  "nbformat": 4,
  "nbformat_minor": 0,
  "metadata": {
    "colab": {
      "name": "Dog_Breed_Identification_Kaggle.ipynb",
      "provenance": [],
      "collapsed_sections": [],
      "include_colab_link": true
    },
    "kernelspec": {
      "name": "python3",
      "display_name": "Python 3"
    },
    "accelerator": "GPU"
  },
  "cells": [
    {
      "cell_type": "markdown",
      "metadata": {
        "id": "view-in-github",
        "colab_type": "text"
      },
      "source": [
        "<a href=\"https://colab.research.google.com/github/SaumilShah-7/Dog-Breed-Identification-Kaggle/blob/master/Dog_Breed_Identification_Kaggle.ipynb\" target=\"_parent\"><img src=\"https://colab.research.google.com/assets/colab-badge.svg\" alt=\"Open In Colab\"/></a>"
      ]
    },
    {
      "cell_type": "code",
      "metadata": {
        "id": "mejOjKjrXYxO",
        "colab_type": "code",
        "outputId": "53f187b5-cf56-4b94-f7de-852460c80bf7",
        "colab": {
          "base_uri": "https://localhost:8080/",
          "height": 35
        }
      },
      "source": [
        "try:\n",
        "  %tensorflow_version 2.x\n",
        "except Exception:\n",
        "  pass\n",
        "\n",
        "import tensorflow as tf\n",
        "print(tf.__version__)\n",
        "\n",
        "import pandas as pd\n",
        "import numpy as np\n",
        "from tensorflow.keras.models import Sequential, load_model\n",
        "from tensorflow.keras.layers import Conv2D, Dense, Dropout, Flatten, MaxPooling2D, BatchNormalization\n",
        "from tensorflow.keras.callbacks import EarlyStopping, ModelCheckpoint\n",
        "from tensorflow.keras.preprocessing.image import ImageDataGenerator\n",
        "import matplotlib.pyplot as plt\n",
        "import PIL\n",
        "import os\n",
        "import shutil"
      ],
      "execution_count": 33,
      "outputs": [
        {
          "output_type": "stream",
          "text": [
            "2.0.0-rc2\n"
          ],
          "name": "stdout"
        }
      ]
    },
    {
      "cell_type": "code",
      "metadata": {
        "id": "e5rFiD73DHPO",
        "colab_type": "code",
        "colab": {}
      },
      "source": [
        "!pip install -q kaggle\n",
        "!mkdir -p ~/.kaggle\n",
        "!cp kaggle.json ~/.kaggle/\n",
        "!chmod 600 ~/.kaggle/kaggle.json"
      ],
      "execution_count": 0,
      "outputs": []
    },
    {
      "cell_type": "code",
      "metadata": {
        "id": "wAqWFv-B7WZT",
        "colab_type": "code",
        "outputId": "c3a4b7ce-28c6-43aa-ccad-0a1b0d932f96",
        "colab": {
          "base_uri": "https://localhost:8080/",
          "height": 263
        }
      },
      "source": [
        "!kaggle competitions download -c dog-breed-identification"
      ],
      "execution_count": 13,
      "outputs": [
        {
          "output_type": "stream",
          "text": [
            "Warning: Looks like you're using an outdated API Version, please consider updating (server 1.5.6 / client 1.5.4)\n",
            "Downloading labels.csv.zip to /content\n",
            "  0% 0.00/214k [00:00<?, ?B/s]\n",
            "100% 214k/214k [00:00<00:00, 32.6MB/s]\n",
            "Downloading sample_submission.csv.zip to /content\n",
            "  0% 0.00/281k [00:00<?, ?B/s]\n",
            "100% 281k/281k [00:00<00:00, 84.3MB/s]\n",
            "Downloading test.zip to /content\n",
            " 98% 340M/346M [00:02<00:00, 162MB/s]\n",
            "100% 346M/346M [00:02<00:00, 152MB/s]\n",
            "Downloading train.zip to /content\n",
            "100% 345M/345M [00:02<00:00, 164MB/s]\n",
            "\n"
          ],
          "name": "stdout"
        }
      ]
    },
    {
      "cell_type": "code",
      "metadata": {
        "id": "PRdIHGuL7r2F",
        "colab_type": "code",
        "colab": {}
      },
      "source": [
        "!unzip -q train.zip\n",
        "!unzip -q test.zip\n",
        "!unzip -q labels.csv.zip\n",
        "!rm train.zip\n",
        "!rm test.zip\n",
        "!rm labels.csv.zip"
      ],
      "execution_count": 0,
      "outputs": []
    },
    {
      "cell_type": "code",
      "metadata": {
        "id": "jhsZMF7qiEOA",
        "colab_type": "code",
        "colab": {}
      },
      "source": [
        "for index, row in y_df.iterrows():\n",
        "  if not os.path.exists(\"images/\"+str(row[\"breed\"])):\n",
        "    os.makedirs(\"images/\"+str(row[\"breed\"]))\n",
        "  shutil.copy(\"train/\"+str(row[\"id\"])+\".jpg\", \"images/\"+str(row[\"breed\"]))    "
      ],
      "execution_count": 0,
      "outputs": []
    },
    {
      "cell_type": "code",
      "metadata": {
        "id": "nsv718sx7QHw",
        "colab_type": "code",
        "colab": {
          "base_uri": "https://localhost:8080/",
          "height": 35
        },
        "outputId": "a515635e-d90b-4fb7-af9d-d6d4ab3f96f6"
      },
      "source": [
        ""
      ],
      "execution_count": 45,
      "outputs": [
        {
          "output_type": "execute_result",
          "data": {
            "text/plain": [
              "10222"
            ]
          },
          "metadata": {
            "tags": []
          },
          "execution_count": 45
        }
      ]
    },
    {
      "cell_type": "code",
      "metadata": {
        "id": "-P_zy2kA1hL6",
        "colab_type": "code",
        "colab": {}
      },
      "source": [
        "y_df = pd.read_csv('labels.csv')\n",
        "\n",
        "# print(y_df['breed'].value_counts())\n",
        "\n",
        "y_breed = np.asarray(y_df['breed']).reshape(-1, 1)\n",
        "ohe = OneHotEncoder(sparse=False)\n",
        "y = ohe.fit_transform(y_breed)\n",
        "\n",
        "labels_mapping = {np.argmax(y[i]): y_df.loc[i,'breed'] for i in range(len(y))}\n",
        "\n",
        "image_height = 224\n",
        "image_width = 224\n",
        "\n",
        "x = []\n",
        "for i in y_df['id']:\n",
        "  image = cv2.imread('/content/train/'+i+'.jpg')\n",
        "  x.append(cv2.resize(image, (image_height, image_width)))\n",
        "x = np.asarray(x)"
      ],
      "execution_count": 0,
      "outputs": []
    },
    {
      "cell_type": "code",
      "metadata": {
        "id": "LlaB9tF17OTD",
        "colab_type": "code",
        "colab": {}
      },
      "source": [
        ""
      ],
      "execution_count": 0,
      "outputs": []
    },
    {
      "cell_type": "code",
      "metadata": {
        "id": "B7ZddX6G7vzE",
        "colab_type": "code",
        "outputId": "512a264b-4e42-43ee-c12a-b004dc88fd8e",
        "colab": {
          "base_uri": "https://localhost:8080/",
          "height": 163
        }
      },
      "source": [
        "from google.colab.patches import cv2_imshow\n",
        "\n",
        "cv2_imshow(x[1])\n",
        "print(x[1].shape, y_breed[1])"
      ],
      "execution_count": 0,
      "outputs": [
        {
          "output_type": "display_data",
          "data": {
            "image/png": "[encoded data removed]",
            "text/plain": [
              "<PIL.Image.Image image mode=RGB size=128x128 at 0x7F90ABCB9CF8>"
            ]
          },
          "metadata": {
            "tags": []
          }
        },
        {
          "output_type": "stream",
          "text": [
            "(128, 128, 3) ['dingo']\n"
          ],
          "name": "stdout"
        }
      ]
    },
    {
      "cell_type": "code",
      "metadata": {
        "id": "dsXcnRnvpLi7",
        "colab_type": "code",
        "outputId": "7e5f8655-8821-406e-9fcb-26bb114c23c1",
        "colab": {
          "base_uri": "https://localhost:8080/",
          "height": 35
        }
      },
      "source": [
        "x_train, x_test, y_train, y_test = train_test_split(x, y, test_size=0.1, random_state=7, shuffle=True)\n",
        "print(x_train.shape, x_test.shape, y_train.shape, y_test.shape)"
      ],
      "execution_count": 0,
      "outputs": [
        {
          "output_type": "stream",
          "text": [
            "(9199, 128, 128, 3) (1023, 128, 128, 3) (9199, 120) (1023, 120)\n"
          ],
          "name": "stdout"
        }
      ]
    },
    {
      "cell_type": "code",
      "metadata": {
        "id": "jlW9RRxqpEh_",
        "colab_type": "code",
        "colab": {}
      },
      "source": [
        "mean = np.mean(x_train, axis=0)\n",
        "std_dev = np.std(x_train, axis=0)\n",
        "\n",
        "x_train = x_train.astype(np.float64)\n",
        "x_test = x_test.astype(np.float64)\n",
        "\n",
        "x_train-=mean\n",
        "x_train/=std_dev\n",
        "\n",
        "x_test-=mean\n",
        "x_test/=std_dev"
      ],
      "execution_count": 0,
      "outputs": []
    },
    {
      "cell_type": "code",
      "metadata": {
        "id": "HvLwBXfQpabF",
        "colab_type": "code",
        "colab": {}
      },
      "source": [
        "datagen = ImageDataGenerator(rotation_range=20, zoom_range=0.15, width_shift_range=0.2, height_shift_range=0.2, shear_range=0.15, \n",
        "                             horizontal_flip=True, fill_mode=\"nearest\")"
      ],
      "execution_count": 0,
      "outputs": []
    },
    {
      "cell_type": "code",
      "metadata": {
        "id": "rDY_QI9d-UCt",
        "colab_type": "code",
        "outputId": "dcaf6d1a-cc46-48f1-e477-15c22ea24a74",
        "colab": {
          "base_uri": "https://localhost:8080/",
          "height": 555
        }
      },
      "source": [
        "model = Sequential()\n",
        "\n",
        "model.add(Conv2D(filters=32, kernel_size=(3, 3), input_shape=(image_width, image_height, 3), activation='relu'))\n",
        "model.add(MaxPooling2D(pool_size=(2, 2)))\n",
        "\n",
        "model.add(Conv2D(filters=64, kernel_size=(3, 3), activation='relu'))\n",
        "model.add(MaxPooling2D(pool_size=(2, 2)))\n",
        "\n",
        "model.add(Conv2D(filters=128, kernel_size=(3, 3), activation='relu'))\n",
        "model.add(MaxPooling2D(pool_size=(2, 2)))\n",
        "model.add(Flatten())\n",
        "model.add(Dropout(0.5))\n",
        "\n",
        "model.add(Dense(units=500, activation='relu'))\n",
        "model.add(Dropout(0.3))\n",
        "model.add(Dense(units=120, activation='softmax'))\n",
        "\n",
        "print(model.summary())"
      ],
      "execution_count": 0,
      "outputs": [
        {
          "output_type": "stream",
          "text": [
            "Model: \"sequential\"\n",
            "_________________________________________________________________\n",
            "Layer (type)                 Output Shape              Param #   \n",
            "=================================================================\n",
            "conv2d (Conv2D)              (None, 126, 126, 32)      896       \n",
            "_________________________________________________________________\n",
            "max_pooling2d (MaxPooling2D) (None, 63, 63, 32)        0         \n",
            "_________________________________________________________________\n",
            "conv2d_1 (Conv2D)            (None, 61, 61, 64)        18496     \n",
            "_________________________________________________________________\n",
            "max_pooling2d_1 (MaxPooling2 (None, 30, 30, 64)        0         \n",
            "_________________________________________________________________\n",
            "conv2d_2 (Conv2D)            (None, 28, 28, 128)       73856     \n",
            "_________________________________________________________________\n",
            "max_pooling2d_2 (MaxPooling2 (None, 14, 14, 128)       0         \n",
            "_________________________________________________________________\n",
            "flatten (Flatten)            (None, 25088)             0         \n",
            "_________________________________________________________________\n",
            "dropout (Dropout)            (None, 25088)             0         \n",
            "_________________________________________________________________\n",
            "dense (Dense)                (None, 500)               12544500  \n",
            "_________________________________________________________________\n",
            "dropout_1 (Dropout)          (None, 500)               0         \n",
            "_________________________________________________________________\n",
            "dense_1 (Dense)              (None, 120)               60120     \n",
            "=================================================================\n",
            "Total params: 12,697,868\n",
            "Trainable params: 12,697,868\n",
            "Non-trainable params: 0\n",
            "_________________________________________________________________\n",
            "None\n"
          ],
          "name": "stdout"
        }
      ]
    },
    {
      "cell_type": "code",
      "metadata": {
        "id": "ez7JEoQW7zhJ",
        "colab_type": "code",
        "outputId": "fceb9952-7696-4d0a-e5f1-113f895e89dd",
        "colab": {
          "base_uri": "https://localhost:8080/",
          "height": 1000
        }
      },
      "source": [
        "model.compile(optimizer='adam', loss='categorical_crossentropy', metrics=['accuracy'])\n",
        "es = EarlyStopping(monitor='val_loss', mode='min', verbose=1, patience=20)\n",
        "mc = ModelCheckpoint('best_model.h5', monitor='val_accuracy', mode='max', verbose=1, save_best_only=True)\n",
        "\n",
        "bs = 100\n",
        "\n",
        "history = model.fit_generator(datagen.flow(x_train, y_train, batch_size=bs), validation_data=(x_test, y_test), \n",
        "                              steps_per_epoch=len(x_train)/bs, epochs=100, callbacks=[es, mc])\n",
        "saved_model = load_model('best_model.h5')\n",
        "\n",
        "pyplot.plot(history.history['loss'], label='train')\n",
        "pyplot.plot(history.history['val_loss'], label='test')\n",
        "pyplot.legend()\n",
        "pyplot.show()"
      ],
      "execution_count": 0,
      "outputs": [
        {
          "output_type": "stream",
          "text": [
            "Epoch 1/100\n",
            "71/71 [============================>.] - ETA: 0s - loss: 4.7537 - accuracy: 0.0145\n",
            "Epoch 00001: val_accuracy improved from -inf to 0.02902, saving model to best_model.h5\n",
            "72/71 [==============================] - 38s 530ms/step - loss: 4.7526 - accuracy: 0.0151 - val_loss: 4.6486 - val_accuracy: 0.0290\n",
            "Epoch 2/100\n",
            "71/71 [============================>.] - ETA: 0s - loss: 4.6177 - accuracy: 0.0271\n",
            "Epoch 00002: val_accuracy improved from 0.02902 to 0.03978, saving model to best_model.h5\n",
            "72/71 [==============================] - 36s 499ms/step - loss: 4.6178 - accuracy: 0.0270 - val_loss: 4.4910 - val_accuracy: 0.0398\n",
            "Epoch 3/100\n",
            "71/71 [============================>.] - ETA: 0s - loss: 4.5023 - accuracy: 0.0359\n",
            "Epoch 00003: val_accuracy improved from 0.03978 to 0.04304, saving model to best_model.h5\n",
            "72/71 [==============================] - 36s 502ms/step - loss: 4.5015 - accuracy: 0.0358 - val_loss: 4.3910 - val_accuracy: 0.0430\n",
            "Epoch 4/100\n",
            "71/71 [============================>.] - ETA: 0s - loss: 4.4189 - accuracy: 0.0411\n",
            "Epoch 00004: val_accuracy improved from 0.04304 to 0.05771, saving model to best_model.h5\n",
            "72/71 [==============================] - 36s 502ms/step - loss: 4.4187 - accuracy: 0.0414 - val_loss: 4.2977 - val_accuracy: 0.0577\n",
            "Epoch 5/100\n",
            "71/71 [============================>.] - ETA: 0s - loss: 4.3527 - accuracy: 0.0507\n",
            "Epoch 00005: val_accuracy improved from 0.05771 to 0.06456, saving model to best_model.h5\n",
            "72/71 [==============================] - 36s 503ms/step - loss: 4.3537 - accuracy: 0.0505 - val_loss: 4.2874 - val_accuracy: 0.0646\n",
            "Epoch 6/100\n",
            "71/71 [============================>.] - ETA: 0s - loss: 4.2780 - accuracy: 0.0598\n",
            "Epoch 00006: val_accuracy improved from 0.06456 to 0.06978, saving model to best_model.h5\n",
            "72/71 [==============================] - 36s 503ms/step - loss: 4.2788 - accuracy: 0.0594 - val_loss: 4.2219 - val_accuracy: 0.0698\n",
            "Epoch 7/100\n",
            "71/71 [============================>.] - ETA: 0s - loss: 4.2104 - accuracy: 0.0673\n",
            "Epoch 00007: val_accuracy did not improve from 0.06978\n",
            "72/71 [==============================] - 36s 498ms/step - loss: 4.2084 - accuracy: 0.0675 - val_loss: 4.1515 - val_accuracy: 0.0685\n",
            "Epoch 8/100\n",
            "71/71 [============================>.] - ETA: 0s - loss: 4.1570 - accuracy: 0.0790\n",
            "Epoch 00008: val_accuracy improved from 0.06978 to 0.07271, saving model to best_model.h5\n",
            "72/71 [==============================] - 36s 502ms/step - loss: 4.1580 - accuracy: 0.0798 - val_loss: 4.1484 - val_accuracy: 0.0727\n",
            "Epoch 9/100\n",
            "71/71 [============================>.] - ETA: 0s - loss: 4.1316 - accuracy: 0.0758\n",
            "Epoch 00009: val_accuracy improved from 0.07271 to 0.07564, saving model to best_model.h5\n",
            "72/71 [==============================] - 36s 502ms/step - loss: 4.1320 - accuracy: 0.0756 - val_loss: 4.1921 - val_accuracy: 0.0756\n",
            "Epoch 10/100\n",
            "71/71 [============================>.] - ETA: 0s - loss: 4.0820 - accuracy: 0.0820\n",
            "Epoch 00010: val_accuracy improved from 0.07564 to 0.08021, saving model to best_model.h5\n",
            "72/71 [==============================] - 37s 508ms/step - loss: 4.0825 - accuracy: 0.0820 - val_loss: 4.1030 - val_accuracy: 0.0802\n",
            "Epoch 11/100\n",
            "71/71 [============================>.] - ETA: 0s - loss: 4.0465 - accuracy: 0.0866\n",
            "Epoch 00011: val_accuracy improved from 0.08021 to 0.08053, saving model to best_model.h5\n",
            "72/71 [==============================] - 36s 501ms/step - loss: 4.0479 - accuracy: 0.0864 - val_loss: 4.1447 - val_accuracy: 0.0805\n",
            "Epoch 12/100\n",
            "71/71 [============================>.] - ETA: 0s - loss: 3.9901 - accuracy: 0.0914\n",
            "Epoch 00012: val_accuracy improved from 0.08053 to 0.08477, saving model to best_model.h5\n",
            "72/71 [==============================] - 36s 502ms/step - loss: 3.9915 - accuracy: 0.0913 - val_loss: 4.0980 - val_accuracy: 0.0848\n",
            "Epoch 13/100\n",
            "71/71 [============================>.] - ETA: 0s - loss: 3.9405 - accuracy: 0.1015\n",
            "Epoch 00013: val_accuracy improved from 0.08477 to 0.10075, saving model to best_model.h5\n",
            "72/71 [==============================] - 36s 503ms/step - loss: 3.9405 - accuracy: 0.1015 - val_loss: 4.0026 - val_accuracy: 0.1007\n",
            "Epoch 14/100\n",
            "71/71 [============================>.] - ETA: 0s - loss: 3.9053 - accuracy: 0.1084\n",
            "Epoch 00014: val_accuracy did not improve from 0.10075\n",
            "72/71 [==============================] - 36s 495ms/step - loss: 3.9097 - accuracy: 0.1080 - val_loss: 4.0693 - val_accuracy: 0.0884\n",
            "Epoch 15/100\n",
            "71/71 [============================>.] - ETA: 0s - loss: 3.8588 - accuracy: 0.1094\n",
            "Epoch 00015: val_accuracy did not improve from 0.10075\n",
            "72/71 [==============================] - 36s 497ms/step - loss: 3.8615 - accuracy: 0.1086 - val_loss: 4.0449 - val_accuracy: 0.0981\n",
            "Epoch 16/100\n",
            "71/71 [============================>.] - ETA: 0s - loss: 3.8361 - accuracy: 0.1141\n",
            "Epoch 00016: val_accuracy did not improve from 0.10075\n",
            "72/71 [==============================] - 36s 498ms/step - loss: 3.8357 - accuracy: 0.1138 - val_loss: 4.0871 - val_accuracy: 0.0952\n",
            "Epoch 17/100\n",
            "71/71 [============================>.] - ETA: 0s - loss: 3.7994 - accuracy: 0.1162\n",
            "Epoch 00017: val_accuracy improved from 0.10075 to 0.10368, saving model to best_model.h5\n",
            "72/71 [==============================] - 36s 502ms/step - loss: 3.7986 - accuracy: 0.1160 - val_loss: 4.0426 - val_accuracy: 0.1037\n",
            "Epoch 18/100\n",
            "71/71 [============================>.] - ETA: 0s - loss: 3.7463 - accuracy: 0.1259\n",
            "Epoch 00018: val_accuracy did not improve from 0.10368\n",
            "72/71 [==============================] - 36s 499ms/step - loss: 3.7465 - accuracy: 0.1265 - val_loss: 4.0676 - val_accuracy: 0.0981\n",
            "Epoch 19/100\n",
            "71/71 [============================>.] - ETA: 0s - loss: 3.7116 - accuracy: 0.1304\n",
            "Epoch 00019: val_accuracy improved from 0.10368 to 0.10401, saving model to best_model.h5\n",
            "72/71 [==============================] - 36s 505ms/step - loss: 3.7133 - accuracy: 0.1300 - val_loss: 4.0129 - val_accuracy: 0.1040\n",
            "Epoch 20/100\n",
            "71/71 [============================>.] - ETA: 0s - loss: 3.6878 - accuracy: 0.1362\n",
            "Epoch 00020: val_accuracy improved from 0.10401 to 0.10760, saving model to best_model.h5\n",
            "72/71 [==============================] - 36s 501ms/step - loss: 3.6864 - accuracy: 0.1361 - val_loss: 3.9737 - val_accuracy: 0.1076\n",
            "Epoch 21/100\n",
            "71/71 [============================>.] - ETA: 0s - loss: 3.6618 - accuracy: 0.1369\n",
            "Epoch 00021: val_accuracy did not improve from 0.10760\n",
            "72/71 [==============================] - 36s 496ms/step - loss: 3.6605 - accuracy: 0.1372 - val_loss: 4.1332 - val_accuracy: 0.1027\n",
            "Epoch 22/100\n",
            "71/71 [============================>.] - ETA: 0s - loss: 3.6341 - accuracy: 0.1423\n",
            "Epoch 00022: val_accuracy did not improve from 0.10760\n",
            "72/71 [==============================] - 36s 495ms/step - loss: 3.6341 - accuracy: 0.1421 - val_loss: 4.0211 - val_accuracy: 0.1063\n",
            "Epoch 23/100\n",
            "71/71 [============================>.] - ETA: 0s - loss: 3.5854 - accuracy: 0.1590\n",
            "Epoch 00023: val_accuracy did not improve from 0.10760\n",
            "72/71 [==============================] - 36s 496ms/step - loss: 3.5867 - accuracy: 0.1584 - val_loss: 4.0486 - val_accuracy: 0.1060\n",
            "Epoch 24/100\n",
            "71/71 [============================>.] - ETA: 0s - loss: 3.5655 - accuracy: 0.1528\n",
            "Epoch 00024: val_accuracy improved from 0.10760 to 0.11868, saving model to best_model.h5\n",
            "72/71 [==============================] - 36s 503ms/step - loss: 3.5673 - accuracy: 0.1529 - val_loss: 3.9755 - val_accuracy: 0.1187\n",
            "Epoch 25/100\n",
            "71/71 [============================>.] - ETA: 0s - loss: 3.5358 - accuracy: 0.1623\n",
            "Epoch 00025: val_accuracy did not improve from 0.11868\n",
            "72/71 [==============================] - 36s 495ms/step - loss: 3.5362 - accuracy: 0.1624 - val_loss: 4.1325 - val_accuracy: 0.0988\n",
            "Epoch 26/100\n",
            "71/71 [============================>.] - ETA: 0s - loss: 3.5074 - accuracy: 0.1658\n",
            "Epoch 00026: val_accuracy did not improve from 0.11868\n",
            "72/71 [==============================] - 36s 496ms/step - loss: 3.5087 - accuracy: 0.1660 - val_loss: 4.0645 - val_accuracy: 0.1043\n",
            "Epoch 27/100\n",
            "71/71 [============================>.] - ETA: 0s - loss: 3.4637 - accuracy: 0.1663\n",
            "Epoch 00027: val_accuracy improved from 0.11868 to 0.12325, saving model to best_model.h5\n",
            "72/71 [==============================] - 36s 501ms/step - loss: 3.4638 - accuracy: 0.1663 - val_loss: 3.9603 - val_accuracy: 0.1232\n",
            "Epoch 28/100\n",
            "71/71 [============================>.] - ETA: 0s - loss: 3.4585 - accuracy: 0.1724\n",
            "Epoch 00028: val_accuracy did not improve from 0.12325\n",
            "72/71 [==============================] - 36s 496ms/step - loss: 3.4598 - accuracy: 0.1718 - val_loss: 4.0144 - val_accuracy: 0.1200\n",
            "Epoch 29/100\n",
            "71/71 [============================>.] - ETA: 0s - loss: 3.4217 - accuracy: 0.1768\n",
            "Epoch 00029: val_accuracy did not improve from 0.12325\n",
            "72/71 [==============================] - 35s 493ms/step - loss: 3.4215 - accuracy: 0.1767 - val_loss: 4.1450 - val_accuracy: 0.1079\n",
            "Epoch 30/100\n",
            "71/71 [============================>.] - ETA: 0s - loss: 3.3937 - accuracy: 0.1758\n",
            "Epoch 00030: val_accuracy did not improve from 0.12325\n",
            "72/71 [==============================] - 36s 496ms/step - loss: 3.3949 - accuracy: 0.1754 - val_loss: 4.0186 - val_accuracy: 0.1167\n",
            "Epoch 31/100\n",
            "71/71 [============================>.] - ETA: 0s - loss: 3.3493 - accuracy: 0.1884\n",
            "Epoch 00031: val_accuracy did not improve from 0.12325\n",
            "72/71 [==============================] - 36s 495ms/step - loss: 3.3519 - accuracy: 0.1884 - val_loss: 4.0161 - val_accuracy: 0.1154\n",
            "Epoch 32/100\n",
            "71/71 [============================>.] - ETA: 0s - loss: 3.3372 - accuracy: 0.1942\n",
            "Epoch 00032: val_accuracy did not improve from 0.12325\n",
            "72/71 [==============================] - 36s 496ms/step - loss: 3.3368 - accuracy: 0.1937 - val_loss: 4.1350 - val_accuracy: 0.1144\n",
            "Epoch 33/100\n",
            "71/71 [============================>.] - ETA: 0s - loss: 3.3159 - accuracy: 0.1946\n",
            "Epoch 00033: val_accuracy did not improve from 0.12325\n",
            "72/71 [==============================] - 36s 497ms/step - loss: 3.3177 - accuracy: 0.1944 - val_loss: 4.2826 - val_accuracy: 0.1056\n",
            "Epoch 34/100\n",
            "71/71 [============================>.] - ETA: 0s - loss: 3.3050 - accuracy: 0.1950\n",
            "Epoch 00034: val_accuracy did not improve from 0.12325\n",
            "72/71 [==============================] - 36s 495ms/step - loss: 3.3063 - accuracy: 0.1947 - val_loss: 4.1949 - val_accuracy: 0.1167\n",
            "Epoch 35/100\n",
            "71/71 [============================>.] - ETA: 0s - loss: 3.2754 - accuracy: 0.2074\n",
            "Epoch 00035: val_accuracy improved from 0.12325 to 0.12586, saving model to best_model.h5\n",
            "72/71 [==============================] - 36s 503ms/step - loss: 3.2716 - accuracy: 0.2085 - val_loss: 4.0854 - val_accuracy: 0.1259\n",
            "Epoch 36/100\n",
            "71/71 [============================>.] - ETA: 0s - loss: 3.2453 - accuracy: 0.2082\n",
            "Epoch 00036: val_accuracy did not improve from 0.12586\n",
            "72/71 [==============================] - 36s 495ms/step - loss: 3.2469 - accuracy: 0.2078 - val_loss: 4.1873 - val_accuracy: 0.1115\n",
            "Epoch 37/100\n",
            "71/71 [============================>.] - ETA: 0s - loss: 3.2176 - accuracy: 0.2163\n",
            "Epoch 00037: val_accuracy did not improve from 0.12586\n",
            "72/71 [==============================] - 36s 497ms/step - loss: 3.2178 - accuracy: 0.2161 - val_loss: 4.2493 - val_accuracy: 0.1135\n",
            "Epoch 38/100\n",
            "71/71 [============================>.] - ETA: 0s - loss: 3.2421 - accuracy: 0.2098\n",
            "Epoch 00038: val_accuracy did not improve from 0.12586\n",
            "72/71 [==============================] - 36s 496ms/step - loss: 3.2405 - accuracy: 0.2099 - val_loss: 4.2419 - val_accuracy: 0.1193\n",
            "Epoch 39/100\n",
            "71/71 [============================>.] - ETA: 0s - loss: 3.2089 - accuracy: 0.2194\n",
            "Epoch 00039: val_accuracy did not improve from 0.12586\n",
            "72/71 [==============================] - 36s 493ms/step - loss: 3.2061 - accuracy: 0.2198 - val_loss: 4.1457 - val_accuracy: 0.1167\n",
            "Epoch 40/100\n",
            "71/71 [============================>.] - ETA: 0s - loss: 3.1490 - accuracy: 0.2275\n",
            "Epoch 00040: val_accuracy did not improve from 0.12586\n",
            "72/71 [==============================] - 36s 496ms/step - loss: 3.1497 - accuracy: 0.2267 - val_loss: 4.1634 - val_accuracy: 0.1197\n",
            "Epoch 41/100\n",
            "71/71 [============================>.] - ETA: 0s - loss: 3.1456 - accuracy: 0.2293\n",
            "Epoch 00041: val_accuracy did not improve from 0.12586\n",
            "72/71 [==============================] - 35s 491ms/step - loss: 3.1480 - accuracy: 0.2284 - val_loss: 4.2846 - val_accuracy: 0.1034\n",
            "Epoch 42/100\n",
            "71/71 [============================>.] - ETA: 0s - loss: 3.1372 - accuracy: 0.2278\n",
            "Epoch 00042: val_accuracy did not improve from 0.12586\n",
            "72/71 [==============================] - 36s 494ms/step - loss: 3.1374 - accuracy: 0.2268 - val_loss: 4.1300 - val_accuracy: 0.1128\n",
            "Epoch 43/100\n",
            "71/71 [============================>.] - ETA: 0s - loss: 3.1047 - accuracy: 0.2344\n",
            "Epoch 00043: val_accuracy did not improve from 0.12586\n",
            "72/71 [==============================] - 36s 496ms/step - loss: 3.1056 - accuracy: 0.2340 - val_loss: 4.1919 - val_accuracy: 0.1187\n",
            "Epoch 44/100\n",
            "71/71 [============================>.] - ETA: 0s - loss: 3.0781 - accuracy: 0.2442\n",
            "Epoch 00044: val_accuracy did not improve from 0.12586\n",
            "72/71 [==============================] - 36s 498ms/step - loss: 3.0790 - accuracy: 0.2444 - val_loss: 4.4127 - val_accuracy: 0.1092\n",
            "Epoch 45/100\n",
            "71/71 [============================>.] - ETA: 0s - loss: 3.0526 - accuracy: 0.2452\n",
            "Epoch 00045: val_accuracy did not improve from 0.12586\n",
            "72/71 [==============================] - 36s 496ms/step - loss: 3.0521 - accuracy: 0.2454 - val_loss: 4.3697 - val_accuracy: 0.1131\n",
            "Epoch 46/100\n",
            "71/71 [============================>.] - ETA: 0s - loss: 3.0568 - accuracy: 0.2429\n",
            "Epoch 00046: val_accuracy did not improve from 0.12586\n",
            "72/71 [==============================] - 36s 497ms/step - loss: 3.0556 - accuracy: 0.2436 - val_loss: 4.4152 - val_accuracy: 0.1112\n",
            "Epoch 47/100\n",
            "71/71 [============================>.] - ETA: 0s - loss: 3.0642 - accuracy: 0.2390\n",
            "Epoch 00047: val_accuracy did not improve from 0.12586\n",
            "72/71 [==============================] - 36s 496ms/step - loss: 3.0656 - accuracy: 0.2386 - val_loss: 4.3468 - val_accuracy: 0.1213\n",
            "Epoch 00047: early stopping\n"
          ],
          "name": "stdout"
        },
        {
          "output_type": "display_data",
          "data": {
            "image/png": "[encoded data removed]",
            "text/plain": [
              "<Figure size 432x288 with 1 Axes>"
            ]
          },
          "metadata": {
            "tags": []
          }
        }
      ]
    },
    {
      "cell_type": "code",
      "metadata": {
        "id": "g74PgwSfzmg-",
        "colab_type": "code",
        "colab": {}
      },
      "source": [
        ""
      ],
      "execution_count": 0,
      "outputs": []
    }
  ]
}