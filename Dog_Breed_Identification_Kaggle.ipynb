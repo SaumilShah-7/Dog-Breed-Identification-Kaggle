{
  "nbformat": 4,
  "nbformat_minor": 0,
  "metadata": {
    "colab": {
      "name": "Dog_Breed_Identification_Kaggle.ipynb",
      "provenance": [],
      "collapsed_sections": [],
      "include_colab_link": true
    },
    "kernelspec": {
      "name": "python3",
      "display_name": "Python 3"
    },
    "accelerator": "GPU"
  },
  "cells": [
    {
      "cell_type": "markdown",
      "metadata": {
        "id": "view-in-github",
        "colab_type": "text"
      },
      "source": [
        "<a href=\"https://colab.research.google.com/github/SaumilShah-7/Dog-Breed-Identification-Kaggle/blob/master/Dog_Breed_Identification_Kaggle.ipynb\" target=\"_parent\"><img src=\"https://colab.research.google.com/assets/colab-badge.svg\" alt=\"Open In Colab\"/></a>"
      ]
    },
    {
      "cell_type": "code",
      "metadata": {
        "id": "mejOjKjrXYxO",
        "colab_type": "code",
        "colab": {}
      },
      "source": [
        "try:\n",
        "  %tensorflow_version 2.x\n",
        "except Exception:\n",
        "  pass\n",
        "\n",
        "import tensorflow as tf\n",
        "print(tf.__version__)\n",
        "\n",
        "import pandas as pd\n",
        "import numpy as np\n",
        "from sklearn.preprocessing import OneHotEncoder\n",
        "from tensorflow.keras.models import Sequential, load_model\n",
        "from tensorflow.keras.layers import Conv2D, Dense, Dropout, Flatten, MaxPooling2D, BatchNormalization\n",
        "from tensorflow.keras.callbacks import EarlyStopping, ModelCheckpoint\n",
        "from matplotlib import pyplot\n",
        "from zipfile import ZipFile\n",
        "import cv2"
      ],
      "execution_count": 0,
      "outputs": []
    },
    {
      "cell_type": "code",
      "metadata": {
        "id": "e5rFiD73DHPO",
        "colab_type": "code",
        "colab": {}
      },
      "source": [
        "from google.colab import files\n",
        "files.upload()\n",
        "\n",
        "!pip install -q kaggle\n",
        "!mkdir -p ~/.kaggle\n",
        "!cp kaggle.json ~/.kaggle/\n",
        "!chmod 600 ~/.kaggle/kaggle.json"
      ],
      "execution_count": 0,
      "outputs": []
    },
    {
      "cell_type": "code",
      "metadata": {
        "id": "wAqWFv-B7WZT",
        "colab_type": "code",
        "colab": {}
      },
      "source": [
        "!kaggle competitions download -c dog-breed-identification"
      ],
      "execution_count": 0,
      "outputs": []
    },
    {
      "cell_type": "code",
      "metadata": {
        "id": "PRdIHGuL7r2F",
        "colab_type": "code",
        "colab": {}
      },
      "source": [
        "with ZipFile('train.zip', 'r') as zipobj:\n",
        "  zipobj.extractall()\n",
        "with ZipFile('test.zip', 'r') as zipobj:\n",
        "  zipobj.extractall()\n",
        "with ZipFile('labels.csv.zip', 'r') as zipobj:\n",
        "  zipobj.extractall()\n",
        "with ZipFile('labels.csv.zip', 'r') as zipobj:\n",
        "  zipobj.extractall()\n",
        "with ZipFile('sample_submission.csv.zip', 'r') as zipobj:\n",
        "  zipobj.extractall()"
      ],
      "execution_count": 0,
      "outputs": []
    },
    {
      "cell_type": "code",
      "metadata": {
        "id": "jhsZMF7qiEOA",
        "colab_type": "code",
        "colab": {}
      },
      "source": [
        "y_df = pd.read_csv('labels.csv')\n",
        "\n",
        "# print(y_df['breed'].value_counts())\n",
        "\n",
        "y_breed = np.asarray(y_df['breed']).reshape(-1, 1)\n",
        "ohe = OneHotEncoder(sparse=False)\n",
        "y = ohe.fit_transform(y_breed)\n",
        "\n",
        "labels_mapping = {np.argmax(y[i]): y_df.loc[i,'breed'] for i in range(len(y))}\n",
        "\n",
        "image_height = 128\n",
        "image_width = 128\n",
        "\n",
        "x = []\n",
        "for i in y_df['id']:\n",
        "  image = cv2.imread('/content/train/'+i+'.jpg')\n",
        "  x.append(cv2.resize(image, (image_height, image_width)))\n",
        "x = np.asarray(x)"
      ],
      "execution_count": 0,
      "outputs": []
    },
    {
      "cell_type": "code",
      "metadata": {
        "id": "B7ZddX6G7vzE",
        "colab_type": "code",
        "colab": {}
      },
      "source": [
        "from google.colab.patches import cv2_imshow\n",
        "\n",
        "cv2_imshow(x[1])\n",
        "print(x[1].shape, y_breed[1])"
      ],
      "execution_count": 0,
      "outputs": []
    },
    {
      "cell_type": "code",
      "metadata": {
        "id": "jlW9RRxqpEh_",
        "colab_type": "code",
        "colab": {}
      },
      "source": [
        "mean = np.mean(x, axis=0)\n",
        "std_dev = np.std(x, axis=0)\n",
        "\n",
        "x = x.astype(np.float64)\n",
        "x-=mean\n",
        "x/=std_dev"
      ],
      "execution_count": 0,
      "outputs": []
    },
    {
      "cell_type": "code",
      "metadata": {
        "id": "rDY_QI9d-UCt",
        "colab_type": "code",
        "colab": {}
      },
      "source": [
        "model = Sequential()\n",
        "\n",
        "model.add(Conv2D(filters=32, kernel_size=(3, 3), input_shape=(image_width, image_height, 3), activation='relu'))\n",
        "model.add(MaxPooling2D(pool_size=(2, 2)))\n",
        "\n",
        "model.add(Conv2D(filters=64, kernel_size=(3, 3), activation='relu'))\n",
        "model.add(MaxPooling2D(pool_size=(2, 2)))\n",
        "model.add(Dropout(0.3))\n",
        "\n",
        "model.add(Conv2D(filters=128, kernel_size=(3, 3), activation='relu'))\n",
        "model.add(MaxPooling2D(pool_size=(2, 2)))\n",
        "model.add(Flatten())\n",
        "\n",
        "model.add(Dense(units=500, activation='relu'))\n",
        "model.add(Dropout(0.3))\n",
        "\n",
        "model.add(Dense(units=120, activation='softmax'))\n",
        "\n",
        "print(model.summary())"
      ],
      "execution_count": 0,
      "outputs": []
    },
    {
      "cell_type": "code",
      "metadata": {
        "id": "ez7JEoQW7zhJ",
        "colab_type": "code",
        "colab": {}
      },
      "source": [
        "model.compile(optimizer='adam', loss='categorical_crossentropy', metrics=['accuracy'])\n",
        "es = EarlyStopping(monitor='val_loss', mode='min', verbose=1, patience=100)\n",
        "mc = ModelCheckpoint('best_model.h5', monitor='val_accuracy', mode='max', verbose=1, save_best_only=True)\n",
        "\n",
        "history = model.fit(x, y, validation_split=0.2, epochs=300, batch_size=1500, callbacks=[es, mc])\n",
        "saved_model = load_model('best_model.h5')\n",
        "\n",
        "pyplot.plot(history.history['loss'], label='train')\n",
        "pyplot.plot(history.history['val_loss'], label='test')\n",
        "pyplot.legend()\n",
        "pyplot.show()"
      ],
      "execution_count": 0,
      "outputs": []
    }
  ]
}