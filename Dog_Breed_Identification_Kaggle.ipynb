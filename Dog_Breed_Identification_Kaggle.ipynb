{
  "nbformat": 4,
  "nbformat_minor": 0,
  "metadata": {
    "colab": {
      "name": "Dog_Breed_Identification_Kaggle.ipynb",
      "provenance": [],
      "collapsed_sections": [],
      "include_colab_link": true
    },
    "kernelspec": {
      "name": "python3",
      "display_name": "Python 3"
    },
    "accelerator": "GPU"
  },
  "cells": [
    {
      "cell_type": "markdown",
      "metadata": {
        "id": "view-in-github",
        "colab_type": "text"
      },
      "source": [
        "<a href=\"https://colab.research.google.com/github/SaumilShah-7/Dog-Breed-Identification-Kaggle/blob/master/Dog_Breed_Identification_Kaggle.ipynb\" target=\"_parent\"><img src=\"https://colab.research.google.com/assets/colab-badge.svg\" alt=\"Open In Colab\"/></a>"
      ]
    },
    {
      "cell_type": "code",
      "metadata": {
        "id": "mejOjKjrXYxO",
        "colab_type": "code",
        "colab": {
          "base_uri": "https://localhost:8080/",
          "height": 52
        },
        "outputId": "8821f9f6-c0d6-4f35-a045-91f9a038a654"
      },
      "source": [
        "try:\n",
        "  %tensorflow_version 2.x\n",
        "except Exception:\n",
        "  pass\n",
        "\n",
        "import tensorflow as tf\n",
        "print(tf.__version__)\n",
        "\n",
        "import pandas as pd\n",
        "import numpy as np\n",
        "from sklearn.preprocessing import OneHotEncoder\n",
        "from sklearn.model_selection import train_test_split\n",
        "from tensorflow.keras.models import Sequential, load_model\n",
        "from tensorflow.keras.layers import Conv2D, Dense, Dropout, Flatten, MaxPooling2D, BatchNormalization\n",
        "from tensorflow.keras.callbacks import EarlyStopping, ModelCheckpoint\n",
        "from tensorflow.keras.preprocessing.image import ImageDataGenerator\n",
        "from matplotlib import pyplot\n",
        "from zipfile import ZipFile\n",
        "import cv2"
      ],
      "execution_count": 1,
      "outputs": [
        {
          "output_type": "stream",
          "text": [
            "TensorFlow 2.x selected.\n",
            "2.0.0-rc2\n"
          ],
          "name": "stdout"
        }
      ]
    },
    {
      "cell_type": "code",
      "metadata": {
        "id": "e5rFiD73DHPO",
        "colab_type": "code",
        "colab": {
          "resources": {
            "http://localhost:8080/nbextensions/google.colab/files.js": {
              "data": "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",
              "ok": true,
              "headers": [
                [
                  "content-type",
                  "application/javascript"
                ]
              ],
              "status": 200,
              "status_text": ""
            }
          },
          "base_uri": "https://localhost:8080/",
          "height": 75
        },
        "outputId": "a8f6fbd2-8d07-4b19-9c81-7a600a2d010e"
      },
      "source": [
        "from google.colab import files\n",
        "files.upload()\n",
        "\n",
        "!pip install -q kaggle\n",
        "!mkdir -p ~/.kaggle\n",
        "!cp kaggle.json ~/.kaggle/\n",
        "!chmod 600 ~/.kaggle/kaggle.json"
      ],
      "execution_count": 3,
      "outputs": [
        {
          "output_type": "display_data",
          "data": {
            "text/html": [
              "\n",
              "     <input type=\"file\" id=\"files-aed6b4b6-5200-4906-8b34-87ef2b87231b\" name=\"files[]\" multiple disabled />\n",
              "     <output id=\"result-aed6b4b6-5200-4906-8b34-87ef2b87231b\">\n",
              "      Upload widget is only available when the cell has been executed in the\n",
              "      current browser session. Please rerun this cell to enable.\n",
              "      </output>\n",
              "      <script src=\"/nbextensions/google.colab/files.js\"></script> "
            ],
            "text/plain": [
              "<IPython.core.display.HTML object>"
            ]
          },
          "metadata": {
            "tags": []
          }
        },
        {
          "output_type": "stream",
          "text": [
            "Saving kaggle.json to kaggle (3).json\n"
          ],
          "name": "stdout"
        }
      ]
    },
    {
      "cell_type": "code",
      "metadata": {
        "id": "wAqWFv-B7WZT",
        "colab_type": "code",
        "colab": {
          "base_uri": "https://localhost:8080/",
          "height": 104
        },
        "outputId": "a1fc3c4b-c533-4b9b-8ed8-ac12beda3754"
      },
      "source": [
        "!kaggle competitions download -c dog-breed-identification"
      ],
      "execution_count": 4,
      "outputs": [
        {
          "output_type": "stream",
          "text": [
            "Warning: Looks like you're using an outdated API Version, please consider updating (server 1.5.6 / client 1.5.4)\n",
            "labels.csv.zip: Skipping, found more recently modified local copy (use --force to force download)\n",
            "sample_submission.csv.zip: Skipping, found more recently modified local copy (use --force to force download)\n",
            "test.zip: Skipping, found more recently modified local copy (use --force to force download)\n",
            "train.zip: Skipping, found more recently modified local copy (use --force to force download)\n"
          ],
          "name": "stdout"
        }
      ]
    },
    {
      "cell_type": "code",
      "metadata": {
        "id": "PRdIHGuL7r2F",
        "colab_type": "code",
        "colab": {}
      },
      "source": [
        "with ZipFile('train.zip', 'r') as zipobj:\n",
        "  zipobj.extractall()\n",
        "with ZipFile('test.zip', 'r') as zipobj:\n",
        "  zipobj.extractall()\n",
        "with ZipFile('labels.csv.zip', 'r') as zipobj:\n",
        "  zipobj.extractall()\n",
        "with ZipFile('labels.csv.zip', 'r') as zipobj:\n",
        "  zipobj.extractall()\n",
        "with ZipFile('sample_submission.csv.zip', 'r') as zipobj:\n",
        "  zipobj.extractall()"
      ],
      "execution_count": 0,
      "outputs": []
    },
    {
      "cell_type": "code",
      "metadata": {
        "id": "jhsZMF7qiEOA",
        "colab_type": "code",
        "colab": {}
      },
      "source": [
        "y_df = pd.read_csv('labels.csv')\n",
        "\n",
        "# print(y_df['breed'].value_counts())\n",
        "\n",
        "y_breed = np.asarray(y_df['breed']).reshape(-1, 1)\n",
        "ohe = OneHotEncoder(sparse=False)\n",
        "y = ohe.fit_transform(y_breed)\n",
        "\n",
        "labels_mapping = {np.argmax(y[i]): y_df.loc[i,'breed'] for i in range(len(y))}\n",
        "\n",
        "image_height = 128\n",
        "image_width = 128\n",
        "\n",
        "x = []\n",
        "for i in y_df['id']:\n",
        "  image = cv2.imread('/content/train/'+i+'.jpg')\n",
        "  x.append(cv2.resize(image, (image_height, image_width)))\n",
        "x = np.asarray(x)"
      ],
      "execution_count": 0,
      "outputs": []
    },
    {
      "cell_type": "code",
      "metadata": {
        "id": "B7ZddX6G7vzE",
        "colab_type": "code",
        "colab": {
          "base_uri": "https://localhost:8080/",
          "height": 163
        },
        "outputId": "48c1f2ce-8bf9-4455-aec6-a5e3ef2118ce"
      },
      "source": [
        "from google.colab.patches import cv2_imshow\n",
        "\n",
        "cv2_imshow(x[1])\n",
        "print(x[1].shape, y_breed[1])"
      ],
      "execution_count": 7,
      "outputs": [
        {
          "output_type": "display_data",
          "data": {
            "image/png": "[encoded data removed]",
            "text/plain": [
              "<PIL.Image.Image image mode=RGB size=128x128 at 0x7FF681947780>"
            ]
          },
          "metadata": {
            "tags": []
          }
        },
        {
          "output_type": "stream",
          "text": [
            "(128, 128, 3) ['dingo']\n"
          ],
          "name": "stdout"
        }
      ]
    },
    {
      "cell_type": "code",
      "metadata": {
        "id": "dsXcnRnvpLi7",
        "colab_type": "code",
        "colab": {
          "base_uri": "https://localhost:8080/",
          "height": 35
        },
        "outputId": "c0c903ba-37c6-43c3-b832-8a3dec207489"
      },
      "source": [
        "x_train, x_test, y_train, y_test = train_test_split(x, y, test_size=0.3, random_state=7, shuffle=True)\n",
        "print(x_train.shape, x_test.shape, y_train.shape, y_test.shape)"
      ],
      "execution_count": 8,
      "outputs": [
        {
          "output_type": "stream",
          "text": [
            "(7155, 128, 128, 3) (3067, 128, 128, 3) (7155, 120) (3067, 120)\n"
          ],
          "name": "stdout"
        }
      ]
    },
    {
      "cell_type": "code",
      "metadata": {
        "id": "jlW9RRxqpEh_",
        "colab_type": "code",
        "colab": {}
      },
      "source": [
        "mean = np.mean(x_train, axis=0)\n",
        "std_dev = np.std(x_train, axis=0)\n",
        "\n",
        "x_train = x_train.astype(np.float64)\n",
        "x_test = x_test.astype(np.float64)\n",
        "\n",
        "x_train-=mean\n",
        "x_train/=std_dev\n",
        "\n",
        "x_test-=mean\n",
        "x_test/=std_dev"
      ],
      "execution_count": 0,
      "outputs": []
    },
    {
      "cell_type": "code",
      "metadata": {
        "id": "HvLwBXfQpabF",
        "colab_type": "code",
        "colab": {}
      },
      "source": [
        "datagen = ImageDataGenerator(rotation_range=20, zoom_range=0.15, width_shift_range=0.2, height_shift_range=0.2, shear_range=0.15, \n",
        "                             horizontal_flip=True, fill_mode=\"nearest\")"
      ],
      "execution_count": 0,
      "outputs": []
    },
    {
      "cell_type": "code",
      "metadata": {
        "id": "rDY_QI9d-UCt",
        "colab_type": "code",
        "colab": {
          "base_uri": "https://localhost:8080/",
          "height": 520
        },
        "outputId": "a9bfa9b2-166d-480e-9ee2-cda76f78f5f3"
      },
      "source": [
        "model = Sequential()\n",
        "\n",
        "model.add(Conv2D(filters=32, kernel_size=(3, 3), input_shape=(image_width, image_height, 3), activation='relu'))\n",
        "model.add(MaxPooling2D(pool_size=(2, 2)))\n",
        "\n",
        "model.add(Conv2D(filters=64, kernel_size=(3, 3), activation='relu'))\n",
        "model.add(MaxPooling2D(pool_size=(2, 2)))\n",
        "\n",
        "model.add(Conv2D(filters=128, kernel_size=(3, 3), activation='relu'))\n",
        "model.add(MaxPooling2D(pool_size=(2, 2)))\n",
        "model.add(Flatten())\n",
        "\n",
        "model.add(Dense(units=500, activation='relu'))\n",
        "model.add(Dropout(0.3))\n",
        "model.add(Dense(units=120, activation='softmax'))\n",
        "\n",
        "print(model.summary())"
      ],
      "execution_count": 11,
      "outputs": [
        {
          "output_type": "stream",
          "text": [
            "Model: \"sequential\"\n",
            "_________________________________________________________________\n",
            "Layer (type)                 Output Shape              Param #   \n",
            "=================================================================\n",
            "conv2d (Conv2D)              (None, 126, 126, 32)      896       \n",
            "_________________________________________________________________\n",
            "max_pooling2d (MaxPooling2D) (None, 63, 63, 32)        0         \n",
            "_________________________________________________________________\n",
            "conv2d_1 (Conv2D)            (None, 61, 61, 64)        18496     \n",
            "_________________________________________________________________\n",
            "max_pooling2d_1 (MaxPooling2 (None, 30, 30, 64)        0         \n",
            "_________________________________________________________________\n",
            "conv2d_2 (Conv2D)            (None, 28, 28, 128)       73856     \n",
            "_________________________________________________________________\n",
            "max_pooling2d_2 (MaxPooling2 (None, 14, 14, 128)       0         \n",
            "_________________________________________________________________\n",
            "flatten (Flatten)            (None, 25088)             0         \n",
            "_________________________________________________________________\n",
            "dense (Dense)                (None, 500)               12544500  \n",
            "_________________________________________________________________\n",
            "dropout (Dropout)            (None, 500)               0         \n",
            "_________________________________________________________________\n",
            "dense_1 (Dense)              (None, 120)               60120     \n",
            "=================================================================\n",
            "Total params: 12,697,868\n",
            "Trainable params: 12,697,868\n",
            "Non-trainable params: 0\n",
            "_________________________________________________________________\n",
            "None\n"
          ],
          "name": "stdout"
        }
      ]
    },
    {
      "cell_type": "code",
      "metadata": {
        "id": "ez7JEoQW7zhJ",
        "colab_type": "code",
        "colab": {
          "base_uri": "https://localhost:8080/",
          "height": 1000
        },
        "outputId": "92947e4a-e162-40b8-f146-238488aae0c4"
      },
      "source": [
        "model.compile(optimizer='adam', loss='categorical_crossentropy', metrics=['accuracy'])\n",
        "es = EarlyStopping(monitor='val_loss', mode='min', verbose=1, patience=20)\n",
        "mc = ModelCheckpoint('best_model.h5', monitor='val_accuracy', mode='max', verbose=1, save_best_only=True)\n",
        "\n",
        "bs = 50\n",
        "\n",
        "history = model.fit_generator(datagen.flow(x_train, y_train, batch_size=bs), validation_data=(x_test, y_test), \n",
        "                              steps_per_epoch=len(x_train)/bs, epochs=100, callbacks=[es, mc])\n",
        "saved_model = load_model('best_model.h5')\n",
        "\n",
        "pyplot.plot(history.history['loss'], label='train')\n",
        "pyplot.plot(history.history['val_loss'], label='test')\n",
        "pyplot.legend()\n",
        "pyplot.show()"
      ],
      "execution_count": 12,
      "outputs": [
        {
          "output_type": "stream",
          "text": [
            "Epoch 1/100\n",
            "WARNING:tensorflow:From /tensorflow-2.0.0-rc2/python3.6/tensorflow_core/python/ops/math_grad.py:1394: where (from tensorflow.python.ops.array_ops) is deprecated and will be removed in a future version.\n",
            "Instructions for updating:\n",
            "Use tf.where in 2.0, which has the same broadcast rule as np.where\n",
            "143/143 [============================>.] - ETA: 0s - loss: 4.8077 - accuracy: 0.0132\n",
            "Epoch 00001: val_accuracy improved from -inf to 0.01239, saving model to best_model.h5\n",
            "144/143 [==============================] - 40s 281ms/step - loss: 4.8072 - accuracy: 0.0133 - val_loss: 4.7507 - val_accuracy: 0.0124\n",
            "Epoch 2/100\n",
            "143/143 [============================>.] - ETA: 0s - loss: 4.7191 - accuracy: 0.0201\n",
            "Epoch 00002: val_accuracy improved from 0.01239 to 0.02022, saving model to best_model.h5\n",
            "144/143 [==============================] - 38s 261ms/step - loss: 4.7189 - accuracy: 0.0200 - val_loss: 4.6418 - val_accuracy: 0.0202\n",
            "Epoch 3/100\n",
            "143/143 [============================>.] - ETA: 0s - loss: 4.6392 - accuracy: 0.0239\n",
            "Epoch 00003: val_accuracy improved from 0.02022 to 0.03097, saving model to best_model.h5\n",
            "144/143 [==============================] - 38s 262ms/step - loss: 4.6399 - accuracy: 0.0238 - val_loss: 4.5498 - val_accuracy: 0.0310\n",
            "Epoch 4/100\n",
            "143/143 [============================>.] - ETA: 0s - loss: 4.5510 - accuracy: 0.0301\n",
            "Epoch 00004: val_accuracy improved from 0.03097 to 0.04304, saving model to best_model.h5\n",
            "144/143 [==============================] - 37s 260ms/step - loss: 4.5494 - accuracy: 0.0299 - val_loss: 4.4346 - val_accuracy: 0.0430\n",
            "Epoch 5/100\n",
            "143/143 [============================>.] - ETA: 0s - loss: 4.4614 - accuracy: 0.0342\n",
            "Epoch 00005: val_accuracy improved from 0.04304 to 0.04402, saving model to best_model.h5\n",
            "144/143 [==============================] - 38s 261ms/step - loss: 4.4613 - accuracy: 0.0341 - val_loss: 4.4198 - val_accuracy: 0.0440\n",
            "Epoch 6/100\n",
            "143/143 [============================>.] - ETA: 0s - loss: 4.4139 - accuracy: 0.0429\n",
            "Epoch 00006: val_accuracy improved from 0.04402 to 0.05934, saving model to best_model.h5\n",
            "144/143 [==============================] - 38s 262ms/step - loss: 4.4128 - accuracy: 0.0435 - val_loss: 4.3317 - val_accuracy: 0.0593\n",
            "Epoch 7/100\n",
            "143/143 [============================>.] - ETA: 0s - loss: 4.3302 - accuracy: 0.0473\n",
            "Epoch 00007: val_accuracy did not improve from 0.05934\n",
            "144/143 [==============================] - 37s 259ms/step - loss: 4.3310 - accuracy: 0.0470 - val_loss: 4.3781 - val_accuracy: 0.0450\n",
            "Epoch 8/100\n",
            "143/143 [============================>.] - ETA: 0s - loss: 4.2548 - accuracy: 0.0557\n",
            "Epoch 00008: val_accuracy improved from 0.05934 to 0.06586, saving model to best_model.h5\n",
            "144/143 [==============================] - 37s 260ms/step - loss: 4.2548 - accuracy: 0.0558 - val_loss: 4.2772 - val_accuracy: 0.0659\n",
            "Epoch 9/100\n",
            "143/143 [============================>.] - ETA: 0s - loss: 4.1962 - accuracy: 0.0657\n",
            "Epoch 00009: val_accuracy improved from 0.06586 to 0.06782, saving model to best_model.h5\n",
            "144/143 [==============================] - 37s 260ms/step - loss: 4.1962 - accuracy: 0.0654 - val_loss: 4.2044 - val_accuracy: 0.0678\n",
            "Epoch 10/100\n",
            "143/143 [============================>.] - ETA: 0s - loss: 4.1259 - accuracy: 0.0742\n",
            "Epoch 00010: val_accuracy improved from 0.06782 to 0.07238, saving model to best_model.h5\n",
            "144/143 [==============================] - 37s 259ms/step - loss: 4.1287 - accuracy: 0.0738 - val_loss: 4.1758 - val_accuracy: 0.0724\n",
            "Epoch 11/100\n",
            "143/143 [============================>.] - ETA: 0s - loss: 4.0747 - accuracy: 0.0792\n",
            "Epoch 00011: val_accuracy improved from 0.07238 to 0.07336, saving model to best_model.h5\n",
            "144/143 [==============================] - 38s 260ms/step - loss: 4.0732 - accuracy: 0.0795 - val_loss: 4.1558 - val_accuracy: 0.0734\n",
            "Epoch 12/100\n",
            "143/143 [============================>.] - ETA: 0s - loss: 4.0058 - accuracy: 0.0875\n",
            "Epoch 00012: val_accuracy improved from 0.07336 to 0.08380, saving model to best_model.h5\n",
            "144/143 [==============================] - 38s 261ms/step - loss: 4.0063 - accuracy: 0.0871 - val_loss: 4.0906 - val_accuracy: 0.0838\n",
            "Epoch 13/100\n",
            "143/143 [============================>.] - ETA: 0s - loss: 3.9540 - accuracy: 0.1012\n",
            "Epoch 00013: val_accuracy did not improve from 0.08380\n",
            "144/143 [==============================] - 37s 258ms/step - loss: 3.9542 - accuracy: 0.1015 - val_loss: 4.1427 - val_accuracy: 0.0799\n",
            "Epoch 14/100\n",
            "143/143 [============================>.] - ETA: 0s - loss: 3.9016 - accuracy: 0.1040\n",
            "Epoch 00014: val_accuracy improved from 0.08380 to 0.09390, saving model to best_model.h5\n",
            "144/143 [==============================] - 37s 260ms/step - loss: 3.9006 - accuracy: 0.1037 - val_loss: 4.0246 - val_accuracy: 0.0939\n",
            "Epoch 15/100\n",
            "143/143 [============================>.] - ETA: 0s - loss: 3.8551 - accuracy: 0.1102\n",
            "Epoch 00015: val_accuracy did not improve from 0.09390\n",
            "144/143 [==============================] - 37s 256ms/step - loss: 3.8558 - accuracy: 0.1100 - val_loss: 4.0322 - val_accuracy: 0.0890\n",
            "Epoch 16/100\n",
            "143/143 [============================>.] - ETA: 0s - loss: 3.7930 - accuracy: 0.1168\n",
            "Epoch 00016: val_accuracy improved from 0.09390 to 0.09521, saving model to best_model.h5\n",
            "144/143 [==============================] - 38s 261ms/step - loss: 3.7929 - accuracy: 0.1171 - val_loss: 4.0898 - val_accuracy: 0.0952\n",
            "Epoch 17/100\n",
            "143/143 [============================>.] - ETA: 0s - loss: 3.7550 - accuracy: 0.1232\n",
            "Epoch 00017: val_accuracy did not improve from 0.09521\n",
            "144/143 [==============================] - 37s 256ms/step - loss: 3.7538 - accuracy: 0.1230 - val_loss: 4.0267 - val_accuracy: 0.0893\n",
            "Epoch 18/100\n",
            "143/143 [============================>.] - ETA: 0s - loss: 3.6998 - accuracy: 0.1284\n",
            "Epoch 00018: val_accuracy improved from 0.09521 to 0.09619, saving model to best_model.h5\n",
            "144/143 [==============================] - 38s 261ms/step - loss: 3.7006 - accuracy: 0.1284 - val_loss: 4.0755 - val_accuracy: 0.0962\n",
            "Epoch 19/100\n",
            "143/143 [============================>.] - ETA: 0s - loss: 3.6703 - accuracy: 0.1376\n",
            "Epoch 00019: val_accuracy improved from 0.09619 to 0.10368, saving model to best_model.h5\n",
            "144/143 [==============================] - 37s 260ms/step - loss: 3.6722 - accuracy: 0.1371 - val_loss: 4.0156 - val_accuracy: 0.1037\n",
            "Epoch 20/100\n",
            "143/143 [============================>.] - ETA: 0s - loss: 3.6304 - accuracy: 0.1430\n",
            "Epoch 00020: val_accuracy improved from 0.10368 to 0.10727, saving model to best_model.h5\n",
            "144/143 [==============================] - 38s 261ms/step - loss: 3.6302 - accuracy: 0.1428 - val_loss: 4.0022 - val_accuracy: 0.1073\n",
            "Epoch 21/100\n",
            "143/143 [============================>.] - ETA: 0s - loss: 3.5818 - accuracy: 0.1407\n",
            "Epoch 00021: val_accuracy did not improve from 0.10727\n",
            "144/143 [==============================] - 37s 259ms/step - loss: 3.5810 - accuracy: 0.1410 - val_loss: 4.2209 - val_accuracy: 0.1043\n",
            "Epoch 22/100\n",
            "143/143 [============================>.] - ETA: 0s - loss: 3.5332 - accuracy: 0.1554\n",
            "Epoch 00022: val_accuracy did not improve from 0.10727\n",
            "144/143 [==============================] - 37s 258ms/step - loss: 3.5329 - accuracy: 0.1557 - val_loss: 4.0940 - val_accuracy: 0.1050\n",
            "Epoch 23/100\n",
            "143/143 [============================>.] - ETA: 0s - loss: 3.4956 - accuracy: 0.1657\n",
            "Epoch 00023: val_accuracy did not improve from 0.10727\n",
            "144/143 [==============================] - 37s 260ms/step - loss: 3.4972 - accuracy: 0.1655 - val_loss: 4.2805 - val_accuracy: 0.0978\n",
            "Epoch 24/100\n",
            "143/143 [============================>.] - ETA: 0s - loss: 3.4732 - accuracy: 0.1671\n",
            "Epoch 00024: val_accuracy improved from 0.10727 to 0.11607, saving model to best_model.h5\n",
            "144/143 [==============================] - 38s 261ms/step - loss: 3.4746 - accuracy: 0.1666 - val_loss: 4.0180 - val_accuracy: 0.1161\n",
            "Epoch 25/100\n",
            "143/143 [============================>.] - ETA: 0s - loss: 3.4342 - accuracy: 0.1759\n",
            "Epoch 00025: val_accuracy did not improve from 0.11607\n",
            "144/143 [==============================] - 37s 260ms/step - loss: 3.4342 - accuracy: 0.1760 - val_loss: 4.0022 - val_accuracy: 0.1135\n",
            "Epoch 26/100\n",
            "143/143 [============================>.] - ETA: 0s - loss: 3.3633 - accuracy: 0.1848\n",
            "Epoch 00026: val_accuracy did not improve from 0.11607\n",
            "144/143 [==============================] - 37s 259ms/step - loss: 3.3639 - accuracy: 0.1843 - val_loss: 4.2664 - val_accuracy: 0.0988\n",
            "Epoch 27/100\n",
            "143/143 [============================>.] - ETA: 0s - loss: 3.3564 - accuracy: 0.1887\n",
            "Epoch 00027: val_accuracy did not improve from 0.11607\n",
            "144/143 [==============================] - 37s 259ms/step - loss: 3.3541 - accuracy: 0.1891 - val_loss: 4.2561 - val_accuracy: 0.1109\n",
            "Epoch 28/100\n",
            "143/143 [============================>.] - ETA: 0s - loss: 3.3375 - accuracy: 0.1879\n",
            "Epoch 00028: val_accuracy did not improve from 0.11607\n",
            "144/143 [==============================] - 37s 260ms/step - loss: 3.3378 - accuracy: 0.1878 - val_loss: 4.1723 - val_accuracy: 0.1138\n",
            "Epoch 29/100\n",
            "143/143 [============================>.] - ETA: 0s - loss: 3.2817 - accuracy: 0.2015\n",
            "Epoch 00029: val_accuracy improved from 0.11607 to 0.11836, saving model to best_model.h5\n",
            "144/143 [==============================] - 38s 262ms/step - loss: 3.2801 - accuracy: 0.2017 - val_loss: 4.0019 - val_accuracy: 0.1184\n",
            "Epoch 30/100\n",
            "143/143 [============================>.] - ETA: 0s - loss: 3.2507 - accuracy: 0.2037\n",
            "Epoch 00030: val_accuracy did not improve from 0.11836\n",
            "144/143 [==============================] - 37s 257ms/step - loss: 3.2504 - accuracy: 0.2035 - val_loss: 4.1565 - val_accuracy: 0.1118\n",
            "Epoch 31/100\n",
            "143/143 [============================>.] - ETA: 0s - loss: 3.2346 - accuracy: 0.2079\n",
            "Epoch 00031: val_accuracy did not improve from 0.11836\n",
            "144/143 [==============================] - 37s 258ms/step - loss: 3.2365 - accuracy: 0.2075 - val_loss: 4.1966 - val_accuracy: 0.1161\n",
            "Epoch 32/100\n",
            "143/143 [============================>.] - ETA: 0s - loss: 3.1826 - accuracy: 0.2144\n",
            "Epoch 00032: val_accuracy improved from 0.11836 to 0.12097, saving model to best_model.h5\n",
            "144/143 [==============================] - 38s 261ms/step - loss: 3.1835 - accuracy: 0.2140 - val_loss: 4.1353 - val_accuracy: 0.1210\n",
            "Epoch 33/100\n",
            "143/143 [============================>.] - ETA: 0s - loss: 3.1548 - accuracy: 0.2208\n",
            "Epoch 00033: val_accuracy did not improve from 0.12097\n",
            "144/143 [==============================] - 37s 259ms/step - loss: 3.1551 - accuracy: 0.2210 - val_loss: 4.0586 - val_accuracy: 0.1197\n",
            "Epoch 34/100\n",
            "143/143 [============================>.] - ETA: 0s - loss: 3.1150 - accuracy: 0.2243\n",
            "Epoch 00034: val_accuracy did not improve from 0.12097\n",
            "144/143 [==============================] - 37s 257ms/step - loss: 3.1150 - accuracy: 0.2242 - val_loss: 4.2628 - val_accuracy: 0.1164\n",
            "Epoch 35/100\n",
            "143/143 [============================>.] - ETA: 0s - loss: 3.1035 - accuracy: 0.2307\n",
            "Epoch 00035: val_accuracy did not improve from 0.12097\n",
            "144/143 [==============================] - 37s 258ms/step - loss: 3.1052 - accuracy: 0.2310 - val_loss: 4.2323 - val_accuracy: 0.1154\n",
            "Epoch 36/100\n",
            "143/143 [============================>.] - ETA: 0s - loss: 3.0847 - accuracy: 0.2324\n",
            "Epoch 00036: val_accuracy did not improve from 0.12097\n",
            "144/143 [==============================] - 37s 257ms/step - loss: 3.0839 - accuracy: 0.2321 - val_loss: 4.4438 - val_accuracy: 0.1135\n",
            "Epoch 37/100\n",
            "143/143 [============================>.] - ETA: 0s - loss: 3.0393 - accuracy: 0.2393\n",
            "Epoch 00037: val_accuracy did not improve from 0.12097\n",
            "144/143 [==============================] - 37s 258ms/step - loss: 3.0410 - accuracy: 0.2390 - val_loss: 4.3319 - val_accuracy: 0.1210\n",
            "Epoch 38/100\n",
            "143/143 [============================>.] - ETA: 0s - loss: 3.0130 - accuracy: 0.2425\n",
            "Epoch 00038: val_accuracy improved from 0.12097 to 0.12488, saving model to best_model.h5\n",
            "144/143 [==============================] - 37s 260ms/step - loss: 3.0135 - accuracy: 0.2421 - val_loss: 4.2474 - val_accuracy: 0.1249\n",
            "Epoch 39/100\n",
            "143/143 [============================>.] - ETA: 0s - loss: 2.9883 - accuracy: 0.2535\n",
            "Epoch 00039: val_accuracy did not improve from 0.12488\n",
            "144/143 [==============================] - 37s 256ms/step - loss: 2.9876 - accuracy: 0.2537 - val_loss: 4.5681 - val_accuracy: 0.1109\n",
            "Epoch 40/100\n",
            "143/143 [============================>.] - ETA: 0s - loss: 2.9972 - accuracy: 0.2548\n",
            "Epoch 00040: val_accuracy did not improve from 0.12488\n",
            "144/143 [==============================] - 37s 257ms/step - loss: 2.9959 - accuracy: 0.2555 - val_loss: 4.4085 - val_accuracy: 0.1223\n",
            "Epoch 41/100\n",
            "143/143 [============================>.] - ETA: 0s - loss: 2.9384 - accuracy: 0.2619\n",
            "Epoch 00041: val_accuracy did not improve from 0.12488\n",
            "144/143 [==============================] - 37s 260ms/step - loss: 2.9366 - accuracy: 0.2623 - val_loss: 4.5567 - val_accuracy: 0.1184\n",
            "Epoch 42/100\n",
            "143/143 [============================>.] - ETA: 0s - loss: 2.9276 - accuracy: 0.2631\n",
            "Epoch 00042: val_accuracy did not improve from 0.12488\n",
            "144/143 [==============================] - 37s 258ms/step - loss: 2.9290 - accuracy: 0.2623 - val_loss: 4.4472 - val_accuracy: 0.1206\n",
            "Epoch 43/100\n",
            "143/143 [============================>.] - ETA: 0s - loss: 2.8749 - accuracy: 0.2790\n",
            "Epoch 00043: val_accuracy did not improve from 0.12488\n",
            "144/143 [==============================] - 37s 258ms/step - loss: 2.8762 - accuracy: 0.2787 - val_loss: 4.6436 - val_accuracy: 0.1249\n",
            "Epoch 44/100\n",
            "143/143 [============================>.] - ETA: 0s - loss: 2.8717 - accuracy: 0.2802\n",
            "Epoch 00044: val_accuracy did not improve from 0.12488\n",
            "144/143 [==============================] - 37s 258ms/step - loss: 2.8707 - accuracy: 0.2801 - val_loss: 4.5075 - val_accuracy: 0.1171\n",
            "Epoch 45/100\n",
            "143/143 [============================>.] - ETA: 0s - loss: 2.8409 - accuracy: 0.2844\n",
            "Epoch 00045: val_accuracy improved from 0.12488 to 0.13531, saving model to best_model.h5\n",
            "144/143 [==============================] - 37s 260ms/step - loss: 2.8406 - accuracy: 0.2844 - val_loss: 4.3260 - val_accuracy: 0.1353\n",
            "Epoch 46/100\n",
            "143/143 [============================>.] - ETA: 0s - loss: 2.7906 - accuracy: 0.2957\n",
            "Epoch 00046: val_accuracy did not improve from 0.13531\n",
            "144/143 [==============================] - 37s 258ms/step - loss: 2.7900 - accuracy: 0.2963 - val_loss: 4.8195 - val_accuracy: 0.1187\n",
            "Epoch 47/100\n",
            "143/143 [============================>.] - ETA: 0s - loss: 2.8060 - accuracy: 0.2960\n",
            "Epoch 00047: val_accuracy did not improve from 0.13531\n",
            "144/143 [==============================] - 37s 258ms/step - loss: 2.8075 - accuracy: 0.2955 - val_loss: 4.5573 - val_accuracy: 0.1285\n",
            "Epoch 48/100\n",
            "143/143 [============================>.] - ETA: 0s - loss: 2.7831 - accuracy: 0.3013\n",
            "Epoch 00048: val_accuracy did not improve from 0.13531\n",
            "144/143 [==============================] - 37s 258ms/step - loss: 2.7832 - accuracy: 0.3010 - val_loss: 4.5408 - val_accuracy: 0.1304\n",
            "Epoch 49/100\n",
            "143/143 [============================>.] - ETA: 0s - loss: 2.7356 - accuracy: 0.3078\n",
            "Epoch 00049: val_accuracy did not improve from 0.13531\n",
            "144/143 [==============================] - 37s 257ms/step - loss: 2.7368 - accuracy: 0.3076 - val_loss: 4.6504 - val_accuracy: 0.1278\n",
            "Epoch 00049: early stopping\n"
          ],
          "name": "stdout"
        },
        {
          "output_type": "display_data",
          "data": {
            "image/png": "[encoded data removed]",
            "text/plain": [
              "<Figure size 432x288 with 1 Axes>"
            ]
          },
          "metadata": {
            "tags": []
          }
        }
      ]
    },
    {
      "cell_type": "code",
      "metadata": {
        "id": "g74PgwSfzmg-",
        "colab_type": "code",
        "colab": {}
      },
      "source": [
        ""
      ],
      "execution_count": 0,
      "outputs": []
    }
  ]
}