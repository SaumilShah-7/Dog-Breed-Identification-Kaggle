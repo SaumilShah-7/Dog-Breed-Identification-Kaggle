{
  "nbformat": 4,
  "nbformat_minor": 0,
  "metadata": {
    "colab": {
      "name": "Dog_Breed_Identification_Kaggle.ipynb",
      "provenance": [],
      "collapsed_sections": [],
      "include_colab_link": true
    },
    "kernelspec": {
      "name": "python3",
      "display_name": "Python 3"
    },
    "accelerator": "GPU"
  },
  "cells": [
    {
      "cell_type": "markdown",
      "metadata": {
        "id": "view-in-github",
        "colab_type": "text"
      },
      "source": [
        "<a href=\"https://colab.research.google.com/github/SaumilShah-7/Dog-Breed-Identification-Kaggle/blob/master/Dog_Breed_Identification_Kaggle.ipynb\" target=\"_parent\"><img src=\"https://colab.research.google.com/assets/colab-badge.svg\" alt=\"Open In Colab\"/></a>"
      ]
    },
    {
      "cell_type": "code",
      "metadata": {
        "id": "mejOjKjrXYxO",
        "colab_type": "code",
        "outputId": "ddbbbc0f-6f66-4f44-91c3-346b56e2a4cf",
        "colab": {
          "base_uri": "https://localhost:8080/",
          "height": 35
        }
      },
      "source": [
        "try:\n",
        "  %tensorflow_version 2.x\n",
        "except Exception:\n",
        "  pass\n",
        "\n",
        "import tensorflow as tf\n",
        "print(tf.__version__)\n",
        "\n",
        "import pandas as pd\n",
        "import numpy as np\n",
        "from sklearn.model_selection import train_test_split\n",
        "from sklearn.preprocessing import OneHotEncoder\n",
        "from tensorflow.keras.models import Sequential, load_model\n",
        "from tensorflow.keras.layers import Conv2D, Dense, Dropout, Flatten, MaxPooling2D, BatchNormalization\n",
        "from tensorflow.keras.callbacks import EarlyStopping, ModelCheckpoint\n",
        "from matplotlib import pyplot\n",
        "from zipfile import ZipFile\n",
        "import cv2"
      ],
      "execution_count": 2,
      "outputs": [
        {
          "output_type": "stream",
          "text": [
            "2.0.0-rc2\n"
          ],
          "name": "stdout"
        }
      ]
    },
    {
      "cell_type": "code",
      "metadata": {
        "id": "G7y95A5u48so",
        "colab_type": "code",
        "outputId": "8918ad0c-af1c-4e52-bc72-1a59bd5edd4b",
        "colab": {
          "resources": {
            "http://localhost:8080/nbextensions/google.colab/files.js": {
              "data": "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",
              "ok": true,
              "headers": [
                [
                  "content-type",
                  "application/javascript"
                ]
              ],
              "status": 200,
              "status_text": ""
            }
          },
          "base_uri": "https://localhost:8080/",
          "height": 75
        }
      },
      "source": [
        "from google.colab import files\n",
        "files.upload()\n",
        "!pip install -q kaggle\n",
        "!mkdir -p ~/.kaggle\n",
        "!cp kaggle.json ~/.kaggle/"
      ],
      "execution_count": 4,
      "outputs": [
        {
          "output_type": "display_data",
          "data": {
            "text/html": [
              "\n",
              "     <input type=\"file\" id=\"files-daca8b11-3d2a-420d-971b-634891a06b97\" name=\"files[]\" multiple disabled />\n",
              "     <output id=\"result-daca8b11-3d2a-420d-971b-634891a06b97\">\n",
              "      Upload widget is only available when the cell has been executed in the\n",
              "      current browser session. Please rerun this cell to enable.\n",
              "      </output>\n",
              "      <script src=\"/nbextensions/google.colab/files.js\"></script> "
            ],
            "text/plain": [
              "<IPython.core.display.HTML object>"
            ]
          },
          "metadata": {
            "tags": []
          }
        },
        {
          "output_type": "stream",
          "text": [
            "Saving kaggle.json to kaggle.json\n"
          ],
          "name": "stdout"
        }
      ]
    },
    {
      "cell_type": "code",
      "metadata": {
        "id": "wAqWFv-B7WZT",
        "colab_type": "code",
        "outputId": "a94e8a54-4e32-4f24-e33a-478f007ed852",
        "colab": {
          "base_uri": "https://localhost:8080/",
          "height": 260
        }
      },
      "source": [
        "!kaggle competitions download -c dog-breed-identification"
      ],
      "execution_count": 5,
      "outputs": [
        {
          "output_type": "stream",
          "text": [
            "Warning: Your Kaggle API key is readable by other users on this system! To fix this, you can run 'chmod 600 /root/.kaggle/kaggle.json'\n",
            "Warning: Looks like you're using an outdated API Version, please consider updating (server 1.5.6 / client 1.5.4)\n",
            "Downloading labels.csv.zip to /content\n",
            "  0% 0.00/214k [00:00<?, ?B/s]\n",
            "100% 214k/214k [00:00<00:00, 69.4MB/s]\n",
            "Downloading sample_submission.csv.zip to /content\n",
            "  0% 0.00/281k [00:00<?, ?B/s]\n",
            "100% 281k/281k [00:00<00:00, 92.5MB/s]\n",
            "Downloading test.zip to /content\n",
            " 98% 338M/346M [00:02<00:00, 135MB/s]\n",
            "100% 346M/346M [00:02<00:00, 156MB/s]\n",
            "Downloading train.zip to /content\n",
            "100% 343M/345M [00:03<00:00, 156MB/s]\n",
            "100% 345M/345M [00:03<00:00, 117MB/s]\n"
          ],
          "name": "stdout"
        }
      ]
    },
    {
      "cell_type": "code",
      "metadata": {
        "id": "PRdIHGuL7r2F",
        "colab_type": "code",
        "colab": {}
      },
      "source": [
        "with ZipFile('train.zip', 'r') as zipobj:\n",
        "  zipobj.extractall()\n",
        "with ZipFile('test.zip', 'r') as zipobj:\n",
        "  zipobj.extractall()\n",
        "with ZipFile('labels.csv.zip', 'r') as zipobj:\n",
        "  zipobj.extractall()\n",
        "with ZipFile('labels.csv.zip', 'r') as zipobj:\n",
        "  zipobj.extractall()\n",
        "with ZipFile('sample_submission.csv.zip', 'r') as zipobj:\n",
        "  zipobj.extractall()"
      ],
      "execution_count": 0,
      "outputs": []
    },
    {
      "cell_type": "code",
      "metadata": {
        "id": "jhsZMF7qiEOA",
        "colab_type": "code",
        "colab": {}
      },
      "source": [
        "y_df = pd.read_csv('labels.csv')\n",
        "y_labels = np.asarray(y_df['breed']).reshape(-1, 1)\n",
        "\n",
        "image_height = 128\n",
        "image_width = 128\n",
        "\n",
        "x = []\n",
        "for i in y_df['id']:\n",
        "  image = cv2.imread('/content/train/'+i+'.jpg')\n",
        "  x.append(cv2.resize(image, (image_height, image_width)))\n",
        "x = np.asarray(x)"
      ],
      "execution_count": 0,
      "outputs": []
    },
    {
      "cell_type": "code",
      "metadata": {
        "id": "ZEnkPnVZjNFH",
        "colab_type": "code",
        "colab": {}
      },
      "source": [
        "ohe = OneHotEncoder()\n",
        "y = ohe.fit_transform(y_labels).toarray()"
      ],
      "execution_count": 0,
      "outputs": []
    },
    {
      "cell_type": "code",
      "metadata": {
        "id": "B7ZddX6G7vzE",
        "colab_type": "code",
        "colab": {
          "base_uri": "https://localhost:8080/",
          "height": 163
        },
        "outputId": "356ee5dc-e7db-4d82-ff32-5548eb9cac48"
      },
      "source": [
        "from google.colab.patches import cv2_imshow\n",
        "\n",
        "cv2_imshow(x[1])\n",
        "print(x[1].shape, y_labels[1])"
      ],
      "execution_count": 9,
      "outputs": [
        {
          "output_type": "display_data",
          "data": {
            "image/png": "[encoded data removed]",
            "text/plain": [
              "<PIL.Image.Image image mode=RGB size=128x128 at 0x7F13510A3E10>"
            ]
          },
          "metadata": {
            "tags": []
          }
        },
        {
          "output_type": "stream",
          "text": [
            "(128, 128, 3) ['dingo']\n"
          ],
          "name": "stdout"
        }
      ]
    },
    {
      "cell_type": "code",
      "metadata": {
        "id": "azUkX4V9A-k6",
        "colab_type": "code",
        "colab": {
          "base_uri": "https://localhost:8080/",
          "height": 35
        },
        "outputId": "87fa9f03-a903-4ae2-f7c0-500144aff95d"
      },
      "source": [
        "x_train, x_test, y_train, y_test = train_test_split(x, y, test_size=0.3, random_state=7, shuffle=True)\n",
        "print(x_train.shape, x_test.shape, y_train.shape, y_test.shape)"
      ],
      "execution_count": 10,
      "outputs": [
        {
          "output_type": "stream",
          "text": [
            "(7155, 128, 128, 3) (3067, 128, 128, 3) (7155, 120) (3067, 120)\n"
          ],
          "name": "stdout"
        }
      ]
    },
    {
      "cell_type": "code",
      "metadata": {
        "id": "jlW9RRxqpEh_",
        "colab_type": "code",
        "colab": {}
      },
      "source": [
        "mean = np.mean(x_train, axis=0)\n",
        "std_dev = np.std(x_train, axis=0)\n",
        "\n",
        "x_train = x_train.astype(np.float64)\n",
        "x_test = x_test.astype(np.float64)\n",
        "\n",
        "x_train-=mean\n",
        "x_train/=std_dev\n",
        "\n",
        "x_test-=mean\n",
        "x_test/=std_dev"
      ],
      "execution_count": 0,
      "outputs": []
    },
    {
      "cell_type": "code",
      "metadata": {
        "id": "rDY_QI9d-UCt",
        "colab_type": "code",
        "colab": {
          "base_uri": "https://localhost:8080/",
          "height": 555
        },
        "outputId": "78e9f0c8-ff15-42c2-cfb7-118484b68054"
      },
      "source": [
        "model = Sequential()\n",
        "\n",
        "model.add(Conv2D(filters=32, kernel_size=(3,3), input_shape=(image_width,image_height,3), activation='relu'))\n",
        "model.add(MaxPooling2D(pool_size=(2,2)))\n",
        "\n",
        "model.add(Conv2D(filters=64, kernel_size=(3, 3), activation='relu'))\n",
        "model.add(MaxPooling2D(pool_size=(2, 2)))\n",
        "\n",
        "model.add(Conv2D(filters=128, kernel_size=(3, 3), activation='relu'))\n",
        "model.add(MaxPooling2D(pool_size=(2, 2)))\n",
        "model.add(Flatten())\n",
        "model.add(Dropout(0.5))\n",
        "\n",
        "model.add(Dense(units=300,activation='relu'))\n",
        "model.add(BatchNormalization())\n",
        "\n",
        "model.add(Dense(units=120,activation='softmax'))\n",
        "\n",
        "print(model.summary())"
      ],
      "execution_count": 22,
      "outputs": [
        {
          "output_type": "stream",
          "text": [
            "Model: \"sequential_5\"\n",
            "_________________________________________________________________\n",
            "Layer (type)                 Output Shape              Param #   \n",
            "=================================================================\n",
            "conv2d_15 (Conv2D)           (None, 126, 126, 32)      896       \n",
            "_________________________________________________________________\n",
            "max_pooling2d_15 (MaxPooling (None, 63, 63, 32)        0         \n",
            "_________________________________________________________________\n",
            "conv2d_16 (Conv2D)           (None, 61, 61, 64)        18496     \n",
            "_________________________________________________________________\n",
            "max_pooling2d_16 (MaxPooling (None, 30, 30, 64)        0         \n",
            "_________________________________________________________________\n",
            "conv2d_17 (Conv2D)           (None, 28, 28, 128)       73856     \n",
            "_________________________________________________________________\n",
            "max_pooling2d_17 (MaxPooling (None, 14, 14, 128)       0         \n",
            "_________________________________________________________________\n",
            "flatten_5 (Flatten)          (None, 25088)             0         \n",
            "_________________________________________________________________\n",
            "dropout_10 (Dropout)         (None, 25088)             0         \n",
            "_________________________________________________________________\n",
            "dense_10 (Dense)             (None, 300)               7526700   \n",
            "_________________________________________________________________\n",
            "batch_normalization_4 (Batch (None, 300)               1200      \n",
            "_________________________________________________________________\n",
            "dense_11 (Dense)             (None, 120)               36120     \n",
            "=================================================================\n",
            "Total params: 7,657,268\n",
            "Trainable params: 7,656,668\n",
            "Non-trainable params: 600\n",
            "_________________________________________________________________\n",
            "None\n"
          ],
          "name": "stdout"
        }
      ]
    },
    {
      "cell_type": "code",
      "metadata": {
        "id": "ez7JEoQW7zhJ",
        "colab_type": "code",
        "colab": {
          "base_uri": "https://localhost:8080/",
          "height": 1000
        },
        "outputId": "1e0f0747-48f5-4dff-def2-da23933c0704"
      },
      "source": [
        "model.compile(optimizer='adam', loss='categorical_crossentropy', metrics=['accuracy'])\n",
        "es = EarlyStopping(monitor='val_loss', mode='min', verbose=1, patience=50)\n",
        "mc = ModelCheckpoint('best_model.h5', monitor='val_accuracy', mode='max', verbose=1, save_best_only=True)\n",
        "\n",
        "history = model.fit(x_train, y_train, validation_data=[x_test, y_test], epochs=300, batch_size=500, callbacks=[es, mc])\n",
        "saved_model = load_model('best_model.h5')\n",
        "\n",
        "pyplot.plot(history.history['loss'], label='train')\n",
        "pyplot.plot(history.history['val_loss'], label='test')\n",
        "pyplot.legend()\n",
        "pyplot.show()"
      ],
      "execution_count": 23,
      "outputs": [
        {
          "output_type": "stream",
          "text": [
            "Train on 7155 samples, validate on 3067 samples\n",
            "Epoch 1/300\n",
            "7000/7155 [============================>.] - ETA: 0s - loss: 4.8552 - accuracy: 0.0213\n",
            "Epoch 00001: val_accuracy improved from -inf to 0.02315, saving model to best_model.h5\n",
            "7155/7155 [==============================] - 10s 1ms/sample - loss: 4.8504 - accuracy: 0.0214 - val_loss: 6.1768 - val_accuracy: 0.0231\n",
            "Epoch 2/300\n",
            "7000/7155 [============================>.] - ETA: 0s - loss: 4.2220 - accuracy: 0.0830\n",
            "Epoch 00002: val_accuracy improved from 0.02315 to 0.03065, saving model to best_model.h5\n",
            "7155/7155 [==============================] - 9s 1ms/sample - loss: 4.2202 - accuracy: 0.0832 - val_loss: 4.7639 - val_accuracy: 0.0306\n",
            "Epoch 3/300\n",
            "7000/7155 [============================>.] - ETA: 0s - loss: 3.7799 - accuracy: 0.1706\n",
            "Epoch 00003: val_accuracy improved from 0.03065 to 0.03456, saving model to best_model.h5\n",
            "7155/7155 [==============================] - 9s 1ms/sample - loss: 3.7786 - accuracy: 0.1697 - val_loss: 4.5876 - val_accuracy: 0.0346\n",
            "Epoch 4/300\n",
            "7000/7155 [============================>.] - ETA: 0s - loss: 3.1810 - accuracy: 0.3194\n",
            "Epoch 00004: val_accuracy did not improve from 0.03456\n",
            "7155/7155 [==============================] - 9s 1ms/sample - loss: 3.1795 - accuracy: 0.3189 - val_loss: 4.6617 - val_accuracy: 0.0261\n",
            "Epoch 5/300\n",
            "7000/7155 [============================>.] - ETA: 0s - loss: 2.4326 - accuracy: 0.5559\n",
            "Epoch 00005: val_accuracy did not improve from 0.03456\n",
            "7155/7155 [==============================] - 9s 1ms/sample - loss: 2.4329 - accuracy: 0.5547 - val_loss: 4.7223 - val_accuracy: 0.0222\n",
            "Epoch 6/300\n",
            "7000/7155 [============================>.] - ETA: 0s - loss: 1.7023 - accuracy: 0.7737\n",
            "Epoch 00006: val_accuracy did not improve from 0.03456\n",
            "7155/7155 [==============================] - 9s 1ms/sample - loss: 1.6996 - accuracy: 0.7737 - val_loss: 4.7422 - val_accuracy: 0.0235\n",
            "Epoch 7/300\n",
            "7000/7155 [============================>.] - ETA: 0s - loss: 1.0656 - accuracy: 0.9206\n",
            "Epoch 00007: val_accuracy did not improve from 0.03456\n",
            "7155/7155 [==============================] - 9s 1ms/sample - loss: 1.0625 - accuracy: 0.9212 - val_loss: 4.7749 - val_accuracy: 0.0192\n",
            "Epoch 8/300\n",
            "7000/7155 [============================>.] - ETA: 0s - loss: 0.6071 - accuracy: 0.9797\n",
            "Epoch 00008: val_accuracy did not improve from 0.03456\n",
            "7155/7155 [==============================] - 9s 1ms/sample - loss: 0.6052 - accuracy: 0.9796 - val_loss: 4.7782 - val_accuracy: 0.0202\n",
            "Epoch 9/300\n",
            "7000/7155 [============================>.] - ETA: 0s - loss: 0.3389 - accuracy: 0.9947\n",
            "Epoch 00009: val_accuracy did not improve from 0.03456\n",
            "7155/7155 [==============================] - 9s 1ms/sample - loss: 0.3386 - accuracy: 0.9948 - val_loss: 4.7170 - val_accuracy: 0.0248\n",
            "Epoch 10/300\n",
            "7000/7155 [============================>.] - ETA: 0s - loss: 0.2020 - accuracy: 0.9989\n",
            "Epoch 00010: val_accuracy did not improve from 0.03456\n",
            "7155/7155 [==============================] - 9s 1ms/sample - loss: 0.2019 - accuracy: 0.9989 - val_loss: 4.7027 - val_accuracy: 0.0274\n",
            "Epoch 11/300\n",
            "7000/7155 [============================>.] - ETA: 0s - loss: 0.1292 - accuracy: 0.9991\n",
            "Epoch 00011: val_accuracy did not improve from 0.03456\n",
            "7155/7155 [==============================] - 9s 1ms/sample - loss: 0.1290 - accuracy: 0.9992 - val_loss: 4.6702 - val_accuracy: 0.0280\n",
            "Epoch 12/300\n",
            "7000/7155 [============================>.] - ETA: 0s - loss: 0.0912 - accuracy: 0.9993\n",
            "Epoch 00012: val_accuracy did not improve from 0.03456\n",
            "7155/7155 [==============================] - 9s 1ms/sample - loss: 0.0912 - accuracy: 0.9993 - val_loss: 4.6155 - val_accuracy: 0.0329\n",
            "Epoch 13/300\n",
            "7000/7155 [============================>.] - ETA: 0s - loss: 0.0692 - accuracy: 0.9989\n",
            "Epoch 00013: val_accuracy improved from 0.03456 to 0.04271, saving model to best_model.h5\n",
            "7155/7155 [==============================] - 9s 1ms/sample - loss: 0.0691 - accuracy: 0.9989 - val_loss: 4.5701 - val_accuracy: 0.0427\n",
            "Epoch 14/300\n",
            "7000/7155 [============================>.] - ETA: 0s - loss: 0.0562 - accuracy: 0.9993\n",
            "Epoch 00014: val_accuracy improved from 0.04271 to 0.04630, saving model to best_model.h5\n",
            "7155/7155 [==============================] - 9s 1ms/sample - loss: 0.0562 - accuracy: 0.9993 - val_loss: 4.5563 - val_accuracy: 0.0463\n",
            "Epoch 15/300\n",
            "7000/7155 [============================>.] - ETA: 0s - loss: 0.0443 - accuracy: 0.9996\n",
            "Epoch 00015: val_accuracy improved from 0.04630 to 0.05217, saving model to best_model.h5\n",
            "7155/7155 [==============================] - 9s 1ms/sample - loss: 0.0443 - accuracy: 0.9996 - val_loss: 4.5070 - val_accuracy: 0.0522\n",
            "Epoch 16/300\n",
            "7000/7155 [============================>.] - ETA: 0s - loss: 0.0382 - accuracy: 0.9997\n",
            "Epoch 00016: val_accuracy improved from 0.05217 to 0.05641, saving model to best_model.h5\n",
            "7155/7155 [==============================] - 9s 1ms/sample - loss: 0.0381 - accuracy: 0.9997 - val_loss: 4.4863 - val_accuracy: 0.0564\n",
            "Epoch 17/300\n",
            "7000/7155 [============================>.] - ETA: 0s - loss: 0.0326 - accuracy: 0.9997\n",
            "Epoch 00017: val_accuracy improved from 0.05641 to 0.06130, saving model to best_model.h5\n",
            "7155/7155 [==============================] - 9s 1ms/sample - loss: 0.0326 - accuracy: 0.9997 - val_loss: 4.4729 - val_accuracy: 0.0613\n",
            "Epoch 18/300\n",
            "7000/7155 [============================>.] - ETA: 0s - loss: 0.0281 - accuracy: 0.9996\n",
            "Epoch 00018: val_accuracy improved from 0.06130 to 0.06162, saving model to best_model.h5\n",
            "7155/7155 [==============================] - 9s 1ms/sample - loss: 0.0280 - accuracy: 0.9996 - val_loss: 4.4438 - val_accuracy: 0.0616\n",
            "Epoch 19/300\n",
            "7000/7155 [============================>.] - ETA: 0s - loss: 0.0244 - accuracy: 0.9996\n",
            "Epoch 00019: val_accuracy improved from 0.06162 to 0.06684, saving model to best_model.h5\n",
            "7155/7155 [==============================] - 9s 1ms/sample - loss: 0.0243 - accuracy: 0.9996 - val_loss: 4.4321 - val_accuracy: 0.0668\n",
            "Epoch 20/300\n",
            "7000/7155 [============================>.] - ETA: 0s - loss: 0.0224 - accuracy: 0.9997\n",
            "Epoch 00020: val_accuracy improved from 0.06684 to 0.06945, saving model to best_model.h5\n",
            "7155/7155 [==============================] - 9s 1ms/sample - loss: 0.0224 - accuracy: 0.9997 - val_loss: 4.4088 - val_accuracy: 0.0694\n",
            "Epoch 21/300\n",
            "7000/7155 [============================>.] - ETA: 0s - loss: 0.0204 - accuracy: 0.9997\n",
            "Epoch 00021: val_accuracy improved from 0.06945 to 0.07336, saving model to best_model.h5\n",
            "7155/7155 [==============================] - 9s 1ms/sample - loss: 0.0204 - accuracy: 0.9997 - val_loss: 4.3860 - val_accuracy: 0.0734\n",
            "Epoch 22/300\n",
            "7000/7155 [============================>.] - ETA: 0s - loss: 0.0185 - accuracy: 0.9996\n",
            "Epoch 00022: val_accuracy improved from 0.07336 to 0.07988, saving model to best_model.h5\n",
            "7155/7155 [==============================] - 9s 1ms/sample - loss: 0.0184 - accuracy: 0.9996 - val_loss: 4.3617 - val_accuracy: 0.0799\n",
            "Epoch 23/300\n",
            "7000/7155 [============================>.] - ETA: 0s - loss: 0.0160 - accuracy: 0.9996\n",
            "Epoch 00023: val_accuracy did not improve from 0.07988\n",
            "7155/7155 [==============================] - 9s 1ms/sample - loss: 0.0160 - accuracy: 0.9996 - val_loss: 4.3709 - val_accuracy: 0.0792\n",
            "Epoch 24/300\n",
            "7000/7155 [============================>.] - ETA: 0s - loss: 0.0154 - accuracy: 0.9997\n",
            "Epoch 00024: val_accuracy improved from 0.07988 to 0.08151, saving model to best_model.h5\n",
            "7155/7155 [==============================] - 9s 1ms/sample - loss: 0.0154 - accuracy: 0.9997 - val_loss: 4.3774 - val_accuracy: 0.0815\n",
            "Epoch 25/300\n",
            "7000/7155 [============================>.] - ETA: 0s - loss: 0.0141 - accuracy: 0.9997\n",
            "Epoch 00025: val_accuracy did not improve from 0.08151\n",
            "7155/7155 [==============================] - 9s 1ms/sample - loss: 0.0141 - accuracy: 0.9997 - val_loss: 4.3670 - val_accuracy: 0.0812\n",
            "Epoch 26/300\n",
            "7000/7155 [============================>.] - ETA: 0s - loss: 0.0123 - accuracy: 1.0000\n",
            "Epoch 00026: val_accuracy improved from 0.08151 to 0.08282, saving model to best_model.h5\n",
            "7155/7155 [==============================] - 9s 1ms/sample - loss: 0.0123 - accuracy: 1.0000 - val_loss: 4.3808 - val_accuracy: 0.0828\n",
            "Epoch 27/300\n",
            "7000/7155 [============================>.] - ETA: 0s - loss: 0.0138 - accuracy: 0.9996\n",
            "Epoch 00027: val_accuracy did not improve from 0.08282\n",
            "7155/7155 [==============================] - 9s 1ms/sample - loss: 0.0137 - accuracy: 0.9996 - val_loss: 4.3947 - val_accuracy: 0.0792\n",
            "Epoch 28/300\n",
            "7000/7155 [============================>.] - ETA: 0s - loss: 0.0115 - accuracy: 0.9997\n",
            "Epoch 00028: val_accuracy improved from 0.08282 to 0.08608, saving model to best_model.h5\n",
            "7155/7155 [==============================] - 9s 1ms/sample - loss: 0.0115 - accuracy: 0.9997 - val_loss: 4.3891 - val_accuracy: 0.0861\n",
            "Epoch 29/300\n",
            "7000/7155 [============================>.] - ETA: 0s - loss: 0.0116 - accuracy: 0.9997\n",
            "Epoch 00029: val_accuracy improved from 0.08608 to 0.08706, saving model to best_model.h5\n",
            "7155/7155 [==============================] - 9s 1ms/sample - loss: 0.0115 - accuracy: 0.9997 - val_loss: 4.4082 - val_accuracy: 0.0871\n",
            "Epoch 30/300\n",
            "7000/7155 [============================>.] - ETA: 0s - loss: 0.0098 - accuracy: 0.9996\n",
            "Epoch 00030: val_accuracy improved from 0.08706 to 0.08738, saving model to best_model.h5\n",
            "7155/7155 [==============================] - 9s 1ms/sample - loss: 0.0098 - accuracy: 0.9996 - val_loss: 4.4202 - val_accuracy: 0.0874\n",
            "Epoch 31/300\n",
            "7000/7155 [============================>.] - ETA: 0s - loss: 0.0101 - accuracy: 0.9997\n",
            "Epoch 00031: val_accuracy improved from 0.08738 to 0.08803, saving model to best_model.h5\n",
            "7155/7155 [==============================] - 9s 1ms/sample - loss: 0.0100 - accuracy: 0.9997 - val_loss: 4.4372 - val_accuracy: 0.0880\n",
            "Epoch 32/300\n",
            "7000/7155 [============================>.] - ETA: 0s - loss: 0.0095 - accuracy: 0.9994\n",
            "Epoch 00032: val_accuracy did not improve from 0.08803\n",
            "7155/7155 [==============================] - 9s 1ms/sample - loss: 0.0095 - accuracy: 0.9994 - val_loss: 4.4476 - val_accuracy: 0.0864\n",
            "Epoch 33/300\n",
            "7000/7155 [============================>.] - ETA: 0s - loss: 0.0100 - accuracy: 0.9996\n",
            "Epoch 00033: val_accuracy did not improve from 0.08803\n",
            "7155/7155 [==============================] - 9s 1ms/sample - loss: 0.0108 - accuracy: 0.9994 - val_loss: 4.4764 - val_accuracy: 0.0871\n",
            "Epoch 34/300\n",
            "7000/7155 [============================>.] - ETA: 0s - loss: 0.0093 - accuracy: 0.9997\n",
            "Epoch 00034: val_accuracy did not improve from 0.08803\n",
            "7155/7155 [==============================] - 9s 1ms/sample - loss: 0.0093 - accuracy: 0.9997 - val_loss: 4.5012 - val_accuracy: 0.0835\n",
            "Epoch 35/300\n",
            "7000/7155 [============================>.] - ETA: 0s - loss: 0.0098 - accuracy: 0.9997\n",
            "Epoch 00035: val_accuracy did not improve from 0.08803\n",
            "7155/7155 [==============================] - 9s 1ms/sample - loss: 0.0097 - accuracy: 0.9997 - val_loss: 4.5015 - val_accuracy: 0.0854\n",
            "Epoch 36/300\n",
            "7000/7155 [============================>.] - ETA: 0s - loss: 0.0086 - accuracy: 0.9996\n",
            "Epoch 00036: val_accuracy did not improve from 0.08803\n",
            "7155/7155 [==============================] - 9s 1ms/sample - loss: 0.0086 - accuracy: 0.9996 - val_loss: 4.5235 - val_accuracy: 0.0877\n",
            "Epoch 37/300\n",
            "7000/7155 [============================>.] - ETA: 0s - loss: 0.0075 - accuracy: 0.9997\n",
            "Epoch 00037: val_accuracy did not improve from 0.08803\n",
            "7155/7155 [==============================] - 9s 1ms/sample - loss: 0.0074 - accuracy: 0.9997 - val_loss: 4.5336 - val_accuracy: 0.0831\n",
            "Epoch 38/300\n",
            "7000/7155 [============================>.] - ETA: 0s - loss: 0.0063 - accuracy: 0.9999\n",
            "Epoch 00038: val_accuracy did not improve from 0.08803\n",
            "7155/7155 [==============================] - 9s 1ms/sample - loss: 0.0063 - accuracy: 0.9999 - val_loss: 4.5509 - val_accuracy: 0.0805\n",
            "Epoch 39/300\n",
            "7000/7155 [============================>.] - ETA: 0s - loss: 0.0068 - accuracy: 0.9994\n",
            "Epoch 00039: val_accuracy did not improve from 0.08803\n",
            "7155/7155 [==============================] - 9s 1ms/sample - loss: 0.0068 - accuracy: 0.9994 - val_loss: 4.5593 - val_accuracy: 0.0858\n",
            "Epoch 40/300\n",
            "7000/7155 [============================>.] - ETA: 0s - loss: 0.0074 - accuracy: 0.9996\n",
            "Epoch 00040: val_accuracy did not improve from 0.08803\n",
            "7155/7155 [==============================] - 9s 1ms/sample - loss: 0.0074 - accuracy: 0.9996 - val_loss: 4.5838 - val_accuracy: 0.0877\n",
            "Epoch 41/300\n",
            "7000/7155 [============================>.] - ETA: 0s - loss: 0.0060 - accuracy: 0.9996\n",
            "Epoch 00041: val_accuracy did not improve from 0.08803\n",
            "7155/7155 [==============================] - 9s 1ms/sample - loss: 0.0060 - accuracy: 0.9996 - val_loss: 4.6047 - val_accuracy: 0.0848\n",
            "Epoch 42/300\n",
            "7000/7155 [============================>.] - ETA: 0s - loss: 0.0052 - accuracy: 0.9997\n",
            "Epoch 00042: val_accuracy improved from 0.08803 to 0.09162, saving model to best_model.h5\n",
            "7155/7155 [==============================] - 9s 1ms/sample - loss: 0.0052 - accuracy: 0.9997 - val_loss: 4.6115 - val_accuracy: 0.0916\n",
            "Epoch 43/300\n",
            "7000/7155 [============================>.] - ETA: 0s - loss: 0.0058 - accuracy: 0.9996\n",
            "Epoch 00043: val_accuracy did not improve from 0.09162\n",
            "7155/7155 [==============================] - 9s 1ms/sample - loss: 0.0058 - accuracy: 0.9996 - val_loss: 4.6195 - val_accuracy: 0.0877\n",
            "Epoch 44/300\n",
            "7000/7155 [============================>.] - ETA: 0s - loss: 0.0056 - accuracy: 0.9997\n",
            "Epoch 00044: val_accuracy did not improve from 0.09162\n",
            "7155/7155 [==============================] - 9s 1ms/sample - loss: 0.0056 - accuracy: 0.9997 - val_loss: 4.6292 - val_accuracy: 0.0858\n",
            "Epoch 45/300\n",
            "7000/7155 [============================>.] - ETA: 0s - loss: 0.0045 - accuracy: 0.9999\n",
            "Epoch 00045: val_accuracy did not improve from 0.09162\n",
            "7155/7155 [==============================] - 9s 1ms/sample - loss: 0.0045 - accuracy: 0.9999 - val_loss: 4.6224 - val_accuracy: 0.0897\n",
            "Epoch 46/300\n",
            "7000/7155 [============================>.] - ETA: 0s - loss: 0.0051 - accuracy: 0.9997WARNING:tensorflow:Early stopping conditioned on metric `val_loss` which is not available. Available metrics are: loss,accuracy\n",
            "WARNING:tensorflow:Can save best model only with val_accuracy available, skipping.\n",
            "7155/7155 [==============================] - 8s 1ms/sample - loss: 0.0051 - accuracy: 0.9997\n"
          ],
          "name": "stdout"
        },
        {
          "output_type": "error",
          "ename": "KeyboardInterrupt",
          "evalue": "ignored",
          "traceback": [
            "\u001b[0;31m---------------------------------------------------------------------------\u001b[0m",
            "\u001b[0;31mKeyboardInterrupt\u001b[0m                         Traceback (most recent call last)",
            "\u001b[0;32m<ipython-input-23-9c7c8da52fb1>\u001b[0m in \u001b[0;36m<module>\u001b[0;34m()\u001b[0m\n\u001b[1;32m      3\u001b[0m \u001b[0mmc\u001b[0m \u001b[0;34m=\u001b[0m \u001b[0mModelCheckpoint\u001b[0m\u001b[0;34m(\u001b[0m\u001b[0;34m'best_model.h5'\u001b[0m\u001b[0;34m,\u001b[0m \u001b[0mmonitor\u001b[0m\u001b[0;34m=\u001b[0m\u001b[0;34m'val_accuracy'\u001b[0m\u001b[0;34m,\u001b[0m \u001b[0mmode\u001b[0m\u001b[0;34m=\u001b[0m\u001b[0;34m'max'\u001b[0m\u001b[0;34m,\u001b[0m \u001b[0mverbose\u001b[0m\u001b[0;34m=\u001b[0m\u001b[0;36m1\u001b[0m\u001b[0;34m,\u001b[0m \u001b[0msave_best_only\u001b[0m\u001b[0;34m=\u001b[0m\u001b[0;32mTrue\u001b[0m\u001b[0;34m)\u001b[0m\u001b[0;34m\u001b[0m\u001b[0;34m\u001b[0m\u001b[0m\n\u001b[1;32m      4\u001b[0m \u001b[0;34m\u001b[0m\u001b[0m\n\u001b[0;32m----> 5\u001b[0;31m \u001b[0mhistory\u001b[0m \u001b[0;34m=\u001b[0m \u001b[0mmodel\u001b[0m\u001b[0;34m.\u001b[0m\u001b[0mfit\u001b[0m\u001b[0;34m(\u001b[0m\u001b[0mx_train\u001b[0m\u001b[0;34m,\u001b[0m \u001b[0my_train\u001b[0m\u001b[0;34m,\u001b[0m \u001b[0mvalidation_data\u001b[0m\u001b[0;34m=\u001b[0m\u001b[0;34m[\u001b[0m\u001b[0mx_test\u001b[0m\u001b[0;34m,\u001b[0m \u001b[0my_test\u001b[0m\u001b[0;34m]\u001b[0m\u001b[0;34m,\u001b[0m \u001b[0mepochs\u001b[0m\u001b[0;34m=\u001b[0m\u001b[0;36m300\u001b[0m\u001b[0;34m,\u001b[0m \u001b[0mbatch_size\u001b[0m\u001b[0;34m=\u001b[0m\u001b[0;36m500\u001b[0m\u001b[0;34m,\u001b[0m \u001b[0mcallbacks\u001b[0m\u001b[0;34m=\u001b[0m\u001b[0;34m[\u001b[0m\u001b[0mes\u001b[0m\u001b[0;34m,\u001b[0m \u001b[0mmc\u001b[0m\u001b[0;34m]\u001b[0m\u001b[0;34m)\u001b[0m\u001b[0;34m\u001b[0m\u001b[0;34m\u001b[0m\u001b[0m\n\u001b[0m\u001b[1;32m      6\u001b[0m \u001b[0msaved_model\u001b[0m \u001b[0;34m=\u001b[0m \u001b[0mload_model\u001b[0m\u001b[0;34m(\u001b[0m\u001b[0;34m'best_model.h5'\u001b[0m\u001b[0;34m)\u001b[0m\u001b[0;34m\u001b[0m\u001b[0;34m\u001b[0m\u001b[0m\n\u001b[1;32m      7\u001b[0m \u001b[0;34m\u001b[0m\u001b[0m\n",
            "\u001b[0;32m/tensorflow-2.0.0-rc2/python3.6/tensorflow_core/python/keras/engine/training.py\u001b[0m in \u001b[0;36mfit\u001b[0;34m(self, x, y, batch_size, epochs, verbose, callbacks, validation_split, validation_data, shuffle, class_weight, sample_weight, initial_epoch, steps_per_epoch, validation_steps, validation_freq, max_queue_size, workers, use_multiprocessing, **kwargs)\u001b[0m\n\u001b[1;32m    726\u001b[0m         \u001b[0mmax_queue_size\u001b[0m\u001b[0;34m=\u001b[0m\u001b[0mmax_queue_size\u001b[0m\u001b[0;34m,\u001b[0m\u001b[0;34m\u001b[0m\u001b[0;34m\u001b[0m\u001b[0m\n\u001b[1;32m    727\u001b[0m         \u001b[0mworkers\u001b[0m\u001b[0;34m=\u001b[0m\u001b[0mworkers\u001b[0m\u001b[0;34m,\u001b[0m\u001b[0;34m\u001b[0m\u001b[0;34m\u001b[0m\u001b[0m\n\u001b[0;32m--> 728\u001b[0;31m         use_multiprocessing=use_multiprocessing)\n\u001b[0m\u001b[1;32m    729\u001b[0m \u001b[0;34m\u001b[0m\u001b[0m\n\u001b[1;32m    730\u001b[0m   def evaluate(self,\n",
            "\u001b[0;32m/tensorflow-2.0.0-rc2/python3.6/tensorflow_core/python/keras/engine/training_v2.py\u001b[0m in \u001b[0;36mfit\u001b[0;34m(self, model, x, y, batch_size, epochs, verbose, callbacks, validation_split, validation_data, shuffle, class_weight, sample_weight, initial_epoch, steps_per_epoch, validation_steps, validation_freq, **kwargs)\u001b[0m\n\u001b[1;32m    368\u001b[0m                       \u001b[0mmode\u001b[0m\u001b[0;34m=\u001b[0m\u001b[0mModeKeys\u001b[0m\u001b[0;34m.\u001b[0m\u001b[0mTEST\u001b[0m\u001b[0;34m,\u001b[0m\u001b[0;34m\u001b[0m\u001b[0;34m\u001b[0m\u001b[0m\n\u001b[1;32m    369\u001b[0m                       \u001b[0mtraining_context\u001b[0m\u001b[0;34m=\u001b[0m\u001b[0meval_context\u001b[0m\u001b[0;34m,\u001b[0m\u001b[0;34m\u001b[0m\u001b[0;34m\u001b[0m\u001b[0m\n\u001b[0;32m--> 370\u001b[0;31m                       total_epochs=1)\n\u001b[0m\u001b[1;32m    371\u001b[0m                   cbks.make_logs(model, epoch_logs, eval_result, ModeKeys.TEST,\n\u001b[1;32m    372\u001b[0m                                  prefix='val_')\n",
            "\u001b[0;32m/tensorflow-2.0.0-rc2/python3.6/tensorflow_core/python/keras/engine/training_v2.py\u001b[0m in \u001b[0;36mrun_one_epoch\u001b[0;34m(model, iterator, execution_function, dataset_size, batch_size, strategy, steps_per_epoch, num_samples, mode, training_context, total_epochs)\u001b[0m\n\u001b[1;32m    121\u001b[0m         step=step, mode=mode, size=current_batch_size) as batch_logs:\n\u001b[1;32m    122\u001b[0m       \u001b[0;32mtry\u001b[0m\u001b[0;34m:\u001b[0m\u001b[0;34m\u001b[0m\u001b[0;34m\u001b[0m\u001b[0m\n\u001b[0;32m--> 123\u001b[0;31m         \u001b[0mbatch_outs\u001b[0m \u001b[0;34m=\u001b[0m \u001b[0mexecution_function\u001b[0m\u001b[0;34m(\u001b[0m\u001b[0miterator\u001b[0m\u001b[0;34m)\u001b[0m\u001b[0;34m\u001b[0m\u001b[0;34m\u001b[0m\u001b[0m\n\u001b[0m\u001b[1;32m    124\u001b[0m       \u001b[0;32mexcept\u001b[0m \u001b[0;34m(\u001b[0m\u001b[0mStopIteration\u001b[0m\u001b[0;34m,\u001b[0m \u001b[0merrors\u001b[0m\u001b[0;34m.\u001b[0m\u001b[0mOutOfRangeError\u001b[0m\u001b[0;34m)\u001b[0m\u001b[0;34m:\u001b[0m\u001b[0;34m\u001b[0m\u001b[0;34m\u001b[0m\u001b[0m\n\u001b[1;32m    125\u001b[0m         \u001b[0;31m# TODO(kaftan): File bug about tf function and errors.OutOfRangeError?\u001b[0m\u001b[0;34m\u001b[0m\u001b[0;34m\u001b[0m\u001b[0;34m\u001b[0m\u001b[0m\n",
            "\u001b[0;32m/tensorflow-2.0.0-rc2/python3.6/tensorflow_core/python/keras/engine/training_v2_utils.py\u001b[0m in \u001b[0;36mexecution_function\u001b[0;34m(input_fn)\u001b[0m\n\u001b[1;32m     84\u001b[0m     \u001b[0;31m# `numpy` translates Tensors to values in Eager mode.\u001b[0m\u001b[0;34m\u001b[0m\u001b[0;34m\u001b[0m\u001b[0;34m\u001b[0m\u001b[0m\n\u001b[1;32m     85\u001b[0m     return nest.map_structure(_non_none_constant_value,\n\u001b[0;32m---> 86\u001b[0;31m                               distributed_function(input_fn))\n\u001b[0m\u001b[1;32m     87\u001b[0m \u001b[0;34m\u001b[0m\u001b[0m\n\u001b[1;32m     88\u001b[0m   \u001b[0;32mreturn\u001b[0m \u001b[0mexecution_function\u001b[0m\u001b[0;34m\u001b[0m\u001b[0;34m\u001b[0m\u001b[0m\n",
            "\u001b[0;32m/tensorflow-2.0.0-rc2/python3.6/tensorflow_core/python/eager/def_function.py\u001b[0m in \u001b[0;36m__call__\u001b[0;34m(self, *args, **kwds)\u001b[0m\n\u001b[1;32m    455\u001b[0m \u001b[0;34m\u001b[0m\u001b[0m\n\u001b[1;32m    456\u001b[0m     \u001b[0mtracing_count\u001b[0m \u001b[0;34m=\u001b[0m \u001b[0mself\u001b[0m\u001b[0;34m.\u001b[0m\u001b[0m_get_tracing_count\u001b[0m\u001b[0;34m(\u001b[0m\u001b[0;34m)\u001b[0m\u001b[0;34m\u001b[0m\u001b[0;34m\u001b[0m\u001b[0m\n\u001b[0;32m--> 457\u001b[0;31m     \u001b[0mresult\u001b[0m \u001b[0;34m=\u001b[0m \u001b[0mself\u001b[0m\u001b[0;34m.\u001b[0m\u001b[0m_call\u001b[0m\u001b[0;34m(\u001b[0m\u001b[0;34m*\u001b[0m\u001b[0margs\u001b[0m\u001b[0;34m,\u001b[0m \u001b[0;34m**\u001b[0m\u001b[0mkwds\u001b[0m\u001b[0;34m)\u001b[0m\u001b[0;34m\u001b[0m\u001b[0;34m\u001b[0m\u001b[0m\n\u001b[0m\u001b[1;32m    458\u001b[0m     \u001b[0;32mif\u001b[0m \u001b[0mtracing_count\u001b[0m \u001b[0;34m==\u001b[0m \u001b[0mself\u001b[0m\u001b[0;34m.\u001b[0m\u001b[0m_get_tracing_count\u001b[0m\u001b[0;34m(\u001b[0m\u001b[0;34m)\u001b[0m\u001b[0;34m:\u001b[0m\u001b[0;34m\u001b[0m\u001b[0;34m\u001b[0m\u001b[0m\n\u001b[1;32m    459\u001b[0m       \u001b[0mself\u001b[0m\u001b[0;34m.\u001b[0m\u001b[0m_call_counter\u001b[0m\u001b[0;34m.\u001b[0m\u001b[0mcalled_without_tracing\u001b[0m\u001b[0;34m(\u001b[0m\u001b[0;34m)\u001b[0m\u001b[0;34m\u001b[0m\u001b[0;34m\u001b[0m\u001b[0m\n",
            "\u001b[0;32m/tensorflow-2.0.0-rc2/python3.6/tensorflow_core/python/eager/def_function.py\u001b[0m in \u001b[0;36m_call\u001b[0;34m(self, *args, **kwds)\u001b[0m\n\u001b[1;32m    492\u001b[0m       \u001b[0;31m# In this case we have not created variables on the first call. So we can\u001b[0m\u001b[0;34m\u001b[0m\u001b[0;34m\u001b[0m\u001b[0;34m\u001b[0m\u001b[0m\n\u001b[1;32m    493\u001b[0m       \u001b[0;31m# run the first trace but we should fail if variables are created.\u001b[0m\u001b[0;34m\u001b[0m\u001b[0;34m\u001b[0m\u001b[0;34m\u001b[0m\u001b[0m\n\u001b[0;32m--> 494\u001b[0;31m       \u001b[0mresults\u001b[0m \u001b[0;34m=\u001b[0m \u001b[0mself\u001b[0m\u001b[0;34m.\u001b[0m\u001b[0m_stateful_fn\u001b[0m\u001b[0;34m(\u001b[0m\u001b[0;34m*\u001b[0m\u001b[0margs\u001b[0m\u001b[0;34m,\u001b[0m \u001b[0;34m**\u001b[0m\u001b[0mkwds\u001b[0m\u001b[0;34m)\u001b[0m\u001b[0;34m\u001b[0m\u001b[0;34m\u001b[0m\u001b[0m\n\u001b[0m\u001b[1;32m    495\u001b[0m       \u001b[0;32mif\u001b[0m \u001b[0mself\u001b[0m\u001b[0;34m.\u001b[0m\u001b[0m_created_variables\u001b[0m\u001b[0;34m:\u001b[0m\u001b[0;34m\u001b[0m\u001b[0;34m\u001b[0m\u001b[0m\n\u001b[1;32m    496\u001b[0m         raise ValueError(\"Creating variables on a non-first call to a function\"\n",
            "\u001b[0;32m/tensorflow-2.0.0-rc2/python3.6/tensorflow_core/python/eager/function.py\u001b[0m in \u001b[0;36m__call__\u001b[0;34m(self, *args, **kwargs)\u001b[0m\n\u001b[1;32m   1821\u001b[0m     \u001b[0;34m\"\"\"Calls a graph function specialized to the inputs.\"\"\"\u001b[0m\u001b[0;34m\u001b[0m\u001b[0;34m\u001b[0m\u001b[0m\n\u001b[1;32m   1822\u001b[0m     \u001b[0mgraph_function\u001b[0m\u001b[0;34m,\u001b[0m \u001b[0margs\u001b[0m\u001b[0;34m,\u001b[0m \u001b[0mkwargs\u001b[0m \u001b[0;34m=\u001b[0m \u001b[0mself\u001b[0m\u001b[0;34m.\u001b[0m\u001b[0m_maybe_define_function\u001b[0m\u001b[0;34m(\u001b[0m\u001b[0margs\u001b[0m\u001b[0;34m,\u001b[0m \u001b[0mkwargs\u001b[0m\u001b[0;34m)\u001b[0m\u001b[0;34m\u001b[0m\u001b[0;34m\u001b[0m\u001b[0m\n\u001b[0;32m-> 1823\u001b[0;31m     \u001b[0;32mreturn\u001b[0m \u001b[0mgraph_function\u001b[0m\u001b[0;34m.\u001b[0m\u001b[0m_filtered_call\u001b[0m\u001b[0;34m(\u001b[0m\u001b[0margs\u001b[0m\u001b[0;34m,\u001b[0m \u001b[0mkwargs\u001b[0m\u001b[0;34m)\u001b[0m  \u001b[0;31m# pylint: disable=protected-access\u001b[0m\u001b[0;34m\u001b[0m\u001b[0;34m\u001b[0m\u001b[0m\n\u001b[0m\u001b[1;32m   1824\u001b[0m \u001b[0;34m\u001b[0m\u001b[0m\n\u001b[1;32m   1825\u001b[0m   \u001b[0;34m@\u001b[0m\u001b[0mproperty\u001b[0m\u001b[0;34m\u001b[0m\u001b[0;34m\u001b[0m\u001b[0m\n",
            "\u001b[0;32m/tensorflow-2.0.0-rc2/python3.6/tensorflow_core/python/eager/function.py\u001b[0m in \u001b[0;36m_filtered_call\u001b[0;34m(self, args, kwargs)\u001b[0m\n\u001b[1;32m   1139\u001b[0m          if isinstance(t, (ops.Tensor,\n\u001b[1;32m   1140\u001b[0m                            resource_variable_ops.BaseResourceVariable))),\n\u001b[0;32m-> 1141\u001b[0;31m         self.captured_inputs)\n\u001b[0m\u001b[1;32m   1142\u001b[0m \u001b[0;34m\u001b[0m\u001b[0m\n\u001b[1;32m   1143\u001b[0m   \u001b[0;32mdef\u001b[0m \u001b[0m_call_flat\u001b[0m\u001b[0;34m(\u001b[0m\u001b[0mself\u001b[0m\u001b[0;34m,\u001b[0m \u001b[0margs\u001b[0m\u001b[0;34m,\u001b[0m \u001b[0mcaptured_inputs\u001b[0m\u001b[0;34m,\u001b[0m \u001b[0mcancellation_manager\u001b[0m\u001b[0;34m=\u001b[0m\u001b[0;32mNone\u001b[0m\u001b[0;34m)\u001b[0m\u001b[0;34m:\u001b[0m\u001b[0;34m\u001b[0m\u001b[0;34m\u001b[0m\u001b[0m\n",
            "\u001b[0;32m/tensorflow-2.0.0-rc2/python3.6/tensorflow_core/python/eager/function.py\u001b[0m in \u001b[0;36m_call_flat\u001b[0;34m(self, args, captured_inputs, cancellation_manager)\u001b[0m\n\u001b[1;32m   1222\u001b[0m     \u001b[0;32mif\u001b[0m \u001b[0mexecuting_eagerly\u001b[0m\u001b[0;34m:\u001b[0m\u001b[0;34m\u001b[0m\u001b[0;34m\u001b[0m\u001b[0m\n\u001b[1;32m   1223\u001b[0m       flat_outputs = forward_function.call(\n\u001b[0;32m-> 1224\u001b[0;31m           ctx, args, cancellation_manager=cancellation_manager)\n\u001b[0m\u001b[1;32m   1225\u001b[0m     \u001b[0;32melse\u001b[0m\u001b[0;34m:\u001b[0m\u001b[0;34m\u001b[0m\u001b[0;34m\u001b[0m\u001b[0m\n\u001b[1;32m   1226\u001b[0m       \u001b[0mgradient_name\u001b[0m \u001b[0;34m=\u001b[0m \u001b[0mself\u001b[0m\u001b[0;34m.\u001b[0m\u001b[0m_delayed_rewrite_functions\u001b[0m\u001b[0;34m.\u001b[0m\u001b[0mregister\u001b[0m\u001b[0;34m(\u001b[0m\u001b[0;34m)\u001b[0m\u001b[0;34m\u001b[0m\u001b[0;34m\u001b[0m\u001b[0m\n",
            "\u001b[0;32m/tensorflow-2.0.0-rc2/python3.6/tensorflow_core/python/eager/function.py\u001b[0m in \u001b[0;36mcall\u001b[0;34m(self, ctx, args, cancellation_manager)\u001b[0m\n\u001b[1;32m    509\u001b[0m               \u001b[0minputs\u001b[0m\u001b[0;34m=\u001b[0m\u001b[0margs\u001b[0m\u001b[0;34m,\u001b[0m\u001b[0;34m\u001b[0m\u001b[0;34m\u001b[0m\u001b[0m\n\u001b[1;32m    510\u001b[0m               \u001b[0mattrs\u001b[0m\u001b[0;34m=\u001b[0m\u001b[0;34m(\u001b[0m\u001b[0;34m\"executor_type\"\u001b[0m\u001b[0;34m,\u001b[0m \u001b[0mexecutor_type\u001b[0m\u001b[0;34m,\u001b[0m \u001b[0;34m\"config_proto\"\u001b[0m\u001b[0;34m,\u001b[0m \u001b[0mconfig\u001b[0m\u001b[0;34m)\u001b[0m\u001b[0;34m,\u001b[0m\u001b[0;34m\u001b[0m\u001b[0;34m\u001b[0m\u001b[0m\n\u001b[0;32m--> 511\u001b[0;31m               ctx=ctx)\n\u001b[0m\u001b[1;32m    512\u001b[0m         \u001b[0;32melse\u001b[0m\u001b[0;34m:\u001b[0m\u001b[0;34m\u001b[0m\u001b[0;34m\u001b[0m\u001b[0m\n\u001b[1;32m    513\u001b[0m           outputs = execute.execute_with_cancellation(\n",
            "\u001b[0;32m/tensorflow-2.0.0-rc2/python3.6/tensorflow_core/python/eager/execute.py\u001b[0m in \u001b[0;36mquick_execute\u001b[0;34m(op_name, num_outputs, inputs, attrs, ctx, name)\u001b[0m\n\u001b[1;32m     59\u001b[0m     tensors = pywrap_tensorflow.TFE_Py_Execute(ctx._handle, device_name,\n\u001b[1;32m     60\u001b[0m                                                \u001b[0mop_name\u001b[0m\u001b[0;34m,\u001b[0m \u001b[0minputs\u001b[0m\u001b[0;34m,\u001b[0m \u001b[0mattrs\u001b[0m\u001b[0;34m,\u001b[0m\u001b[0;34m\u001b[0m\u001b[0;34m\u001b[0m\u001b[0m\n\u001b[0;32m---> 61\u001b[0;31m                                                num_outputs)\n\u001b[0m\u001b[1;32m     62\u001b[0m   \u001b[0;32mexcept\u001b[0m \u001b[0mcore\u001b[0m\u001b[0;34m.\u001b[0m\u001b[0m_NotOkStatusException\u001b[0m \u001b[0;32mas\u001b[0m \u001b[0me\u001b[0m\u001b[0;34m:\u001b[0m\u001b[0;34m\u001b[0m\u001b[0;34m\u001b[0m\u001b[0m\n\u001b[1;32m     63\u001b[0m     \u001b[0;32mif\u001b[0m \u001b[0mname\u001b[0m \u001b[0;32mis\u001b[0m \u001b[0;32mnot\u001b[0m \u001b[0;32mNone\u001b[0m\u001b[0;34m:\u001b[0m\u001b[0;34m\u001b[0m\u001b[0;34m\u001b[0m\u001b[0m\n",
            "\u001b[0;31mKeyboardInterrupt\u001b[0m: "
          ]
        }
      ]
    },
    {
      "cell_type": "code",
      "metadata": {
        "id": "fej0iGIRwLQb",
        "colab_type": "code",
        "colab": {}
      },
      "source": [
        "train_metrics = saved_model.evaluate(x_train, y_train, verbose=0)\n",
        "test_metrics = saved_model.evaluate(x_test, y_test, verbose=0)\n",
        "print(train_metrics, test_metrics)"
      ],
      "execution_count": 0,
      "outputs": []
    }
  ]
}